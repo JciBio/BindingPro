{
 "cells": [
  {
   "cell_type": "code",
   "execution_count": 1,
   "metadata": {
    "collapsed": true
   },
   "outputs": [],
   "source": [
    "import scipy.io as sio\n",
    "from sklearn.model_selection import KFold\n",
    "import tensorflow as tf"
   ]
  },
  {
   "cell_type": "code",
   "execution_count": 16,
   "metadata": {},
   "outputs": [
    {
     "name": "stdout",
     "output_type": "stream",
     "text": [
      "(57348, 460)\n"
     ]
    }
   ],
   "source": [
    "#load benchmark dataset\n",
    "\n",
    "data = sio.loadmat('PDNA-224-PSSM-11.mat')\n",
    "X = data['data']\n",
    "Y = data['target']\n",
    "X = X.reshape(57348,-1)\n",
    "print(X.shape)\n",
    "#loo = LeaveOneOut()\n",
    "kf = KFold(n_splits=5)"
   ]
  },
  {
   "cell_type": "code",
   "execution_count": 18,
   "metadata": {},
   "outputs": [
    {
     "name": "stdout",
     "output_type": "stream",
     "text": [
      "(45878, 460)\n",
      "len(X_train)=45878,len(Y_test)=11470\n",
      "correct_prediction=Tensor(\"Equal_12:0\", shape=(?,), dtype=bool)\n",
      "Iter 0, Testing Accuracy 0.93025285\n",
      "Iter 1, Testing Accuracy 0.93034\n",
      "Iter 2, Testing Accuracy 0.93034\n",
      "Iter 3, Testing Accuracy 0.93034\n",
      "Iter 4, Testing Accuracy 0.93034\n",
      "Iter 5, Testing Accuracy 0.93034\n",
      "Iter 6, Testing Accuracy 0.93034\n",
      "Iter 7, Testing Accuracy 0.93034\n",
      "Iter 8, Testing Accuracy 0.93034\n",
      "Iter 9, Testing Accuracy 0.93034\n",
      "(45878, 460)\n",
      "len(X_train)=45878,len(Y_test)=11470\n",
      "correct_prediction=Tensor(\"Equal_13:0\", shape=(?,), dtype=bool)\n",
      "Iter 0, Testing Accuracy 0.9207498\n",
      "Iter 1, Testing Accuracy 0.9206626\n",
      "Iter 2, Testing Accuracy 0.9207498\n",
      "Iter 3, Testing Accuracy 0.9206626\n",
      "Iter 4, Testing Accuracy 0.92057544\n",
      "Iter 5, Testing Accuracy 0.92057544\n",
      "Iter 6, Testing Accuracy 0.92057544\n",
      "Iter 7, Testing Accuracy 0.9206626\n",
      "Iter 8, Testing Accuracy 0.9206626\n",
      "Iter 9, Testing Accuracy 0.9206626\n",
      "(45878, 460)\n",
      "len(X_train)=45878,len(Y_test)=11470\n",
      "correct_prediction=Tensor(\"Equal_14:0\", shape=(?,), dtype=bool)\n",
      "Iter 0, Testing Accuracy 0.9391456\n",
      "Iter 1, Testing Accuracy 0.9391456\n",
      "Iter 2, Testing Accuracy 0.9391456\n",
      "Iter 3, Testing Accuracy 0.9391456\n",
      "Iter 4, Testing Accuracy 0.9391456\n",
      "Iter 5, Testing Accuracy 0.9391456\n",
      "Iter 6, Testing Accuracy 0.9391456\n",
      "Iter 7, Testing Accuracy 0.9391456\n",
      "Iter 8, Testing Accuracy 0.9391456\n",
      "Iter 9, Testing Accuracy 0.9391456\n",
      "(45879, 460)\n",
      "len(X_train)=45879,len(Y_test)=11469\n",
      "correct_prediction=Tensor(\"Equal_15:0\", shape=(?,), dtype=bool)\n",
      "Iter 0, Testing Accuracy 0.94132006\n",
      "Iter 1, Testing Accuracy 0.94132006\n",
      "Iter 2, Testing Accuracy 0.94132006\n",
      "Iter 3, Testing Accuracy 0.94132006\n",
      "Iter 4, Testing Accuracy 0.94132006\n",
      "Iter 5, Testing Accuracy 0.94132006\n",
      "Iter 6, Testing Accuracy 0.94132006\n",
      "Iter 7, Testing Accuracy 0.94132006\n",
      "Iter 8, Testing Accuracy 0.94132006\n",
      "Iter 9, Testing Accuracy 0.94140726\n",
      "(45879, 460)\n",
      "len(X_train)=45879,len(Y_test)=11469\n",
      "correct_prediction=Tensor(\"Equal_16:0\", shape=(?,), dtype=bool)\n",
      "Iter 0, Testing Accuracy 0.93844277\n",
      "Iter 1, Testing Accuracy 0.93852997\n",
      "Iter 2, Testing Accuracy 0.93852997\n",
      "Iter 3, Testing Accuracy 0.93852997\n",
      "Iter 4, Testing Accuracy 0.93852997\n",
      "Iter 5, Testing Accuracy 0.93852997\n",
      "Iter 6, Testing Accuracy 0.93852997\n",
      "Iter 7, Testing Accuracy 0.93852997\n",
      "Iter 8, Testing Accuracy 0.93852997\n",
      "Iter 9, Testing Accuracy 0.93852997\n"
     ]
    }
   ],
   "source": [
    "for train_index, test_index in kf.split(X):\n",
    "    x_train, x_test = X[train_index], X[test_index]\n",
    "    y_train, y_test = Y[train_index], Y[test_index]\n",
    "    N = len(x_train)\n",
    "    print(x_train.shape)\n",
    "    #x_train = tf.convert_to_tensor(X_train)\n",
    "    #y_train = tf.convert_to_tensor(Y_train)\n",
    "    #x_test = tf.convert_to_tensor(X_test)\n",
    "    #y_test = tf.convert_to_tensor(Y_test)\n",
    "    print(\"len(X_train)={},len(Y_test)={}\".format(len(x_train),len(y_test)))\n",
    "    x = tf.placeholder(tf.float32, [None, 460])\n",
    "    y = tf.placeholder(tf.float32, [None, 2])\n",
    "    \n",
    "    batch_size = 100\n",
    "    n_batch = N//batch_size\n",
    "    \n",
    "    w = tf.Variable(tf.zeros([460,2]))\n",
    "    b = tf.Variable(tf.zeros([2]))\n",
    "    prediction = tf.nn.softmax(tf.matmul(x,w)+b)\n",
    "    \n",
    "    #loss function\n",
    "    loss = tf.reduce_mean(tf.nn.softmax_cross_entropy_with_logits(labels=y,logits=prediction))\n",
    "    train_step = tf.train.GradientDescentOptimizer(0.05).minimize(loss)\n",
    "    \n",
    "    init = tf.global_variables_initializer()\n",
    "    \n",
    "    correct_prediction = tf.equal(tf.argmax(y,1),tf.argmax(prediction,1))\n",
    "    print('correct_prediction={}'.format(correct_prediction))\n",
    "    accuracy = tf.reduce_mean(tf.cast(correct_prediction,tf.float32))\n",
    "    \n",
    "    with tf.Session() as sess:\n",
    "        sess.run(init)\n",
    "        for epoch in range(10):\n",
    "            for batch in range(n_batch+1):\n",
    "                if (batch+1)*batch_size > N:\n",
    "                    batch_xs = x_train[batch*batch_size:]\n",
    "                    batch_ys = y_train[batch*batch_size:]\n",
    "                else:\n",
    "                    batch_xs = x_train[batch*batch_size:(batch+1)*batch_size]\n",
    "                    batch_ys = y_train[batch*batch_size:(batch+1)*batch_size]\n",
    "                sess.run(train_step, feed_dict={x:batch_xs, y:batch_ys})\n",
    "            acc = sess.run(accuracy, feed_dict={x:x_test, y:y_test}) \n",
    "            print(\"Iter \" + str(epoch) + \", Testing Accuracy \" + str(acc))\n",
    "    \n",
    "    "
   ]
  },
  {
   "cell_type": "code",
   "execution_count": 21,
   "metadata": {},
   "outputs": [
    {
     "data": {
      "text/plain": [
       "TensorShape([Dimension(None)])"
      ]
     },
     "execution_count": 21,
     "metadata": {},
     "output_type": "execute_result"
    }
   ],
   "source": [
    "correct_prediction."
   ]
  },
  {
   "cell_type": "code",
   "execution_count": 8,
   "metadata": {},
   "outputs": [
    {
     "data": {
      "text/plain": [
       "(57348, 2)"
      ]
     },
     "execution_count": 8,
     "metadata": {},
     "output_type": "execute_result"
    }
   ],
   "source": [
    "Y.shape"
   ]
  }
 ],
 "metadata": {
  "kernelspec": {
   "display_name": "Python 3",
   "language": "python",
   "name": "python3"
  },
  "language_info": {
   "codemirror_mode": {
    "name": "ipython",
    "version": 3
   },
   "file_extension": ".py",
   "mimetype": "text/x-python",
   "name": "python",
   "nbconvert_exporter": "python",
   "pygments_lexer": "ipython3",
   "version": "3.6.3"
  }
 },
 "nbformat": 4,
 "nbformat_minor": 2
}
