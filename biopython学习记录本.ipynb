{
 "cells": [
  {
   "cell_type": "code",
   "execution_count": null,
   "metadata": {
    "collapsed": true
   },
   "outputs": [],
   "source": [
    "# 运行blast程序\n",
    "from Bio.Blast.Applications import NcbipsiblastCommandline\n",
    "cline = NcbipsiblastCommandline(query='query.fasta', db='swissprot', evalue=0.001,\n",
    "                               num_iterations=3, out_ascii_pssm='pssmresult.txt')\n",
    "stdout,stderr=cline()"
   ]
  },
  {
   "cell_type": "code",
   "execution_count": null,
   "metadata": {},
   "outputs": [],
   "source": [
    "# 读取blosumMatrix\n",
    "from Bio.SubsMat import MatrixInfo\n",
    "bM = MatrixInfo.blosum62\n"
   ]
  },
  {
   "cell_type": "code",
   "execution_count": null,
   "metadata": {},
   "outputs": [],
   "source": [
    "# 读取,存储mat文件\n",
    "import scipy.io as sio\n",
    "datafile = 'PDNA-224-PSSM.mat'\n",
    "load_data = sio.loadmat(datafile)\n",
    "p = load_data['1OUP_A']\n",
    "print(p)\n"
   ]
  },
  {
   "cell_type": "code",
   "execution_count": null,
   "metadata": {},
   "outputs": [],
   "source": [
    "# 读mat文件\n",
    "import scipy.io as sio\n",
    "datafile = \"blosum.mat\"\n",
    "load_data = sio.loadmat(datafile)\n",
    "m = load_data['blosum62']"
   ]
  },
  {
   "cell_type": "code",
   "execution_count": null,
   "metadata": {
    "scrolled": true
   },
   "outputs": [],
   "source": [
    "# 使用自己的模块ncbi,生成pssm\n",
    "import ncbi\n",
    "#ncbi.getPSSMFiles('query.fasta','')\n",
    "#ncbi.savePSSMFile2CSV('PDNA-224-PSSM','PDNA-224-PSSM')\n",
    "ncbi.getPSSMMatFileFromFastafile( 'PDNA-224-PSSM', 'PDNA-224.fasta', 'PDNA-224-PSSM.mat')"
   ]
  },
  {
   "cell_type": "code",
   "execution_count": null,
   "metadata": {
    "collapsed": true
   },
   "outputs": [],
   "source": [
    "# csv文件操作\n",
    "# 读取pssm文件,保存到csv文件中\n",
    "import csv\n",
    "\n",
    "pssm = []\n",
    "with open('PDNA-224-PSSM/pssm_1D5Y_A.txt','r') as pf:\n",
    "    count = 0\n",
    "    for line in pf:\n",
    "        count += 1\n",
    "        if count <=3:\n",
    "            continue\n",
    "        if not len(line.strip()):\n",
    "            break\n",
    "        p = line.split()\n",
    "        pssm.append(p[2:22])\n",
    "# 写入到csv文件        \n",
    "with open('pssm1D5Y.csv','w') as csvfile:        \n",
    "    cfw = csv.writer(csvfile)\n",
    "    cfw.writerows(pssm)"
   ]
  },
  {
   "cell_type": "code",
   "execution_count": null,
   "metadata": {},
   "outputs": [],
   "source": [
    "# 从csv文件中读取数据\n",
    "import csv\n",
    "k = 0\n",
    "with open('PDNA-224-PSSM/1SFU_A.csv','r') as csvfile:\n",
    "    fr = csv.reader(csvfile)\n",
    "    for row in fr:\n",
    "        k += 1 \n",
    "print(k)"
   ]
  },
  {
   "cell_type": "code",
   "execution_count": null,
   "metadata": {},
   "outputs": [],
   "source": [
    "# 文件操作\n",
    "\n",
    "# 读fasta格式文件\n",
    "from Bio  import SeqIO\n",
    "seq_records=SeqIO.parse('PDNA-224.fasta','fasta')\n",
    "\n",
    "# 读取文件夹下所以文件名\n",
    "import os\n",
    "listfile = os.listdir('PDNA-224-PSSM');\n",
    "\n",
    "wf = open('query.fasta','w')\n",
    "for sr in seq_records:\n",
    "    filename = \"\".join( ('pssm_',sr.id,'.txt'))\n",
    "    if filename not in listfile:\n",
    "        print('{} does not have pssm'.format(sr.id))\n",
    "        # 写到fasta格式文件\n",
    "        SeqIO.write(sr,wf,'fasta')\n",
    "wf.close()\n",
    "    "
   ]
  },
  {
   "cell_type": "code",
   "execution_count": null,
   "metadata": {},
   "outputs": [],
   "source": [
    "# 修改文件名\n",
    "import os\n",
    "dirname = 'PDNA-224-PSSM'\n",
    "listfile = os.listdir(dirname);\n",
    "\n",
    "for file in listfile:\n",
    "    print(file)\n",
    "    if 'pssm_' in file:\n",
    "        os.rename(dirname+'/'+file,dirname+'/'+file[5:])"
   ]
  },
  {
   "cell_type": "code",
   "execution_count": null,
   "metadata": {},
   "outputs": [],
   "source": [
    "# 字符串操作\n",
    "\n",
    "# 在字符串中查找字符位置\n",
    "alphabet = 'ARNDCQEGHILKMFPSTWYVBZX*'\n",
    "print(alphabet.find('A'))"
   ]
  },
  {
   "cell_type": "code",
   "execution_count": null,
   "metadata": {
    "collapsed": true
   },
   "outputs": [],
   "source": []
  }
 ],
 "metadata": {
  "kernelspec": {
   "display_name": "Python 3",
   "language": "python",
   "name": "python3"
  },
  "language_info": {
   "codemirror_mode": {
    "name": "ipython",
    "version": 3
   },
   "file_extension": ".py",
   "mimetype": "text/x-python",
   "name": "python",
   "nbconvert_exporter": "python",
   "pygments_lexer": "ipython3",
   "version": "3.6.3"
  }
 },
 "nbformat": 4,
 "nbformat_minor": 2
}
