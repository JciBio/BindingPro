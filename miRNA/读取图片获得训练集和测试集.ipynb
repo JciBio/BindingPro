{
 "cells": [
  {
   "cell_type": "code",
   "execution_count": 1,
   "metadata": {},
   "outputs": [],
   "source": [
    "import os\n",
    "import numpy as np\n",
    "from PIL import Image\n",
    "import tensorflow as tf\n",
    "import matplotlib.pyplot as plt\n",
    "#导入必要的包\n",
    "\n"
   ]
  },
  {
   "cell_type": "code",
   "execution_count": 28,
   "metadata": {},
   "outputs": [],
   "source": [
    "\n",
    "def get_files(file_dir,lable):\n",
    "    X = []\n",
    "    Y = []\n",
    "    a=0\n",
    "\n",
    "    img=np.zeros(shape=(32,32), dtype=np.int16)\n",
    "    for file in os.listdir(file_dir):\n",
    "        \n",
    "        img=np.array(Image.open(file_dir+file))\n",
    "\n",
    "        X.insert(a,img)\n",
    "        Y.append(lable)\n",
    "        a +=1\n",
    "        \n",
    "    return X,Y\n",
    "        #print(x)\n",
    "    \n",
    "correct_lable = [0,1]\n",
    "wrong_lable =[1,0]\n",
    "\n",
    "x_train_correct, y_train_correct = get_files('data\\\\train_correct_resize\\\\',correct_lable)\n",
    "\n",
    "x_train_wrong, y_train_wrong = get_files('data\\\\train_wrong_resize\\\\',wrong_lable)\n",
    "\n",
    "x_test_correct, y_test_correct = get_files('data\\\\test_correct_resize\\\\',correct_lable)\n",
    "\n",
    "x_test_wrong, y_test_wrong = get_files('data\\\\test_wrong_resize\\\\',wrong_lable)"
   ]
  },
  {
   "cell_type": "code",
   "execution_count": 27,
   "metadata": {},
   "outputs": [
    {
     "name": "stdout",
     "output_type": "stream",
     "text": [
      "482\n",
      "(32, 32)\n"
     ]
    }
   ],
   "source": []
  },
  {
   "cell_type": "code",
   "execution_count": null,
   "metadata": {},
   "outputs": [],
   "source": []
  },
  {
   "cell_type": "code",
   "execution_count": 4,
   "metadata": {},
   "outputs": [
    {
     "name": "stdout",
     "output_type": "stream",
     "text": [
      "[[ 15   0  16 ... 118   0  70]\n",
      " [ 93 137  20 ... 187   3  52]\n",
      " [ 26 111  22 ... 120  22  74]\n",
      " ...\n",
      " [121  56  13 ... 235 255  73]\n",
      " [179 131  20 ... 159 236  57]\n",
      " [105 148  25 ... 127  11  67]]\n"
     ]
    },
    {
     "name": "stderr",
     "output_type": "stream",
     "text": [
      "D:\\Program Files\\Anaconda3\\envs\\tensorflow\\lib\\site-packages\\skimage\\transform\\_warps.py:105: UserWarning: The default mode, 'constant', will be changed to 'reflect' in skimage 0.15.\n",
      "  warn(\"The default mode, 'constant', will be changed to 'reflect' in \"\n",
      "D:\\Program Files\\Anaconda3\\envs\\tensorflow\\lib\\site-packages\\skimage\\transform\\_warps.py:110: UserWarning: Anti-aliasing will be enabled by default in skimage 0.15 to avoid aliasing artifacts when down-sampling images.\n",
      "  warn(\"Anti-aliasing will be enabled by default in skimage 0.15 to \"\n"
     ]
    },
    {
     "data": {
      "image/png": "[encoded data removed]",
      "text/plain": [
       "<Figure size 432x288 with 1 Axes>"
      ]
     },
     "metadata": {},
     "output_type": "display_data"
    }
   ],
   "source": [
    "from skimage import transform,data\n",
    "import matplotlib.pyplot as plt\n",
    "img=Image.open('data\\\\train_correct_resize\\\\410.jpg')\n",
    "#train_wrong\n",
    "\n",
    "img = np.array(img)\n",
    "print(img)\n",
    "plt.imshow(img,plt.cm.gray)\n",
    "dst=transform.resize(img, (32, 32))"
   ]
  },
  {
   "cell_type": "code",
   "execution_count": null,
   "metadata": {},
   "outputs": [],
   "source": []
  }
 ],
 "metadata": {
  "kernelspec": {
   "display_name": "Python 3",
   "language": "python",
   "name": "python3"
  },
  "language_info": {
   "codemirror_mode": {
    "name": "ipython",
    "version": 3
   },
   "file_extension": ".py",
   "mimetype": "text/x-python",
   "name": "python",
   "nbconvert_exporter": "python",
   "pygments_lexer": "ipython3",
   "version": "3.6.5"
  }
 },
 "nbformat": 4,
 "nbformat_minor": 2
}
