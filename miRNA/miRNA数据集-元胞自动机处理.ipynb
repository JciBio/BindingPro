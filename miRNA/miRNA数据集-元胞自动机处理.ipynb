{
 "cells": [
  {
   "cell_type": "markdown",
   "metadata": {},
   "source": [
    "# 导入库"
   ]
  },
  {
   "cell_type": "code",
   "execution_count": 1,
   "metadata": {},
   "outputs": [],
   "source": [
    "# encoding: UTF-8\n",
    "import re\n",
    "import os\n",
    "from numpy import argmax\n",
    "from numpy import *\n",
    "import scipy.io as sio\n",
    "import numpy as np\n",
    "import random \n",
    "\n",
    "import tensorflow as tf \n",
    "from sklearn.model_selection import train_test_split \n",
    "from sklearn import preprocessing \n",
    "import matplotlib.pyplot as plt\n",
    "\n",
    "from PIL import Image"
   ]
  },
  {
   "cell_type": "markdown",
   "metadata": {},
   "source": [
    "# 数据集路径"
   ]
  },
  {
   "cell_type": "code",
   "execution_count": 2,
   "metadata": {},
   "outputs": [],
   "source": [
    "positive_training_data = \"data\\\\positive_training_dataset.txt\"\n",
    "negative_training_data = \"data\\\\negative_training_dataset.txt\" \n",
    "positive_testing_data = \"data\\\\positive_testing_dataset.txt\" \n",
    "negative_testing_data = \"data\\\\negative_testing_dataset.txt\"#数据集的路径"
   ]
  },
  {
   "cell_type": "markdown",
   "metadata": {},
   "source": [
    "# 1、提取数据集中的RNA序列"
   ]
  },
  {
   "cell_type": "code",
   "execution_count": null,
   "metadata": {},
   "outputs": [],
   "source": [
    "def RNA_to_feature(str_rna): \n",
    "#此函数将输入的RNA及其二级结构转化为输入的特征值 \n",
    "\n",
    "    rna, structure = '',''    \n",
    "    #初始化RNA和二级结构的数组 \n",
    "    for i in range(len(str_rna)): \n",
    "        #这个循环用来保证二级结构和编码同样长度，同时避免混入非RNA编码 \n",
    "        if str_rna[i] is not 'A' and str_rna[i] is not 'C' and str_rna[i] is not 'G' and str_rna[i] is not 'U': \n",
    "            continue \n",
    "        rna += str_rna[i] \n",
    "        \n",
    "        \n",
    "    return rna"
   ]
  },
  {
   "cell_type": "code",
   "execution_count": null,
   "metadata": {},
   "outputs": [],
   "source": [
    "\n",
    "def txt2mat(txt_path,savefile):# ,targets):\n",
    "#数据读取函数 \n",
    "    dataset={}\n",
    "    with open(txt_path) as data: \n",
    "        #打开文件 \n",
    "        k = 0\n",
    "        \n",
    "        form_x = [] \n",
    "        fp = data.readlines() \n",
    "        print(len(fp))\n",
    "        for i in range(0, len(fp), 3): \n",
    "            #每次跳三个读取 \n",
    "            \n",
    "            d=RNA_to_feature(fp[i + 1])\n",
    "            #将奇数行（RNA编码）和偶数行（二级结构）一同输入，一起进行转换\n",
    "            encoded = list(d)\n",
    "            \n",
    "            #encoded = np.array(d)\n",
    "            \n",
    "            #print(d,encoded)\n",
    "            \n",
    "            dataset[str(k)]= encoded\n",
    "            k += 1\n",
    "        sio.savemat(savefile,dataset) \n",
    "    \n",
    "\n"
   ]
  },
  {
   "cell_type": "code",
   "execution_count": null,
   "metadata": {},
   "outputs": [],
   "source": []
  },
  {
   "cell_type": "code",
   "execution_count": null,
   "metadata": {},
   "outputs": [],
   "source": [
    "data1 = sio.loadmat('data\\\\test_wrong.mat')\n",
    "# X = data1['data']\n",
    "# Y = data1['target']\n",
    "# print(len(X))\n",
    "print(data1['123'][0])"
   ]
  },
  {
   "cell_type": "markdown",
   "metadata": {},
   "source": [
    "# 3、对提取出的RNA序列进行2位二进制编码"
   ]
  },
  {
   "cell_type": "code",
   "execution_count": null,
   "metadata": {},
   "outputs": [],
   "source": [
    "\n",
    "def Seg2Bin(segfile, savefile ,targets):\n",
    "    num_list=[]\n",
    "    data = sio.loadmat(segfile)\n",
    "    X = data\n",
    "    Y = []\n",
    "    print(len(X))\n",
    "    \n",
    "#     #定义蛋白质编码模型\n",
    "#     dict = { 'P':'00001', 'Q': '00100', 'R': '00110', 'Y': '01100', 'W': '01110',\n",
    "#             'T': '10000', 'M': '10011', 'N': '10101', 'V': '11010', 'E': '11101',\n",
    "#             'L': '00011', 'H': '00101', 'S': '01001', 'F': '01011', 'C': '01111',\n",
    "#             'I': '10010', 'K': '10100', 'A': '11001', 'D': '11100', 'G': '11110', 'X': '00000'} #将乱码X设为00000\n",
    "\n",
    "    \n",
    "    #定义RNA编码模型\n",
    "    dict = { 'A':'00', 'U': '01', 'G': '10', 'C': '11'} #将乱码X设为000\n",
    "   \n",
    "    XX=np.ndarray(shape=(len(X)-3,1),dtype='S500')\n",
    "\n",
    "    for i in range(len(X)-3):\n",
    "        bin_=''\n",
    "        #print(len(X[str(i)]))\n",
    "        num_list.append(len(X[str(i)]))\n",
    "        #list.insert(index, obj)\n",
    "        \n",
    "        #print(len(X[str(i)]))\n",
    "        for j in range(len(X[str(i)])):\n",
    "            \n",
    "            stra=str(dict[X[str(i)][j]]) #将编码转化为字符串\n",
    "            \n",
    "            bin_ = bin_ + stra\n",
    "        \n",
    "        '''对二进制编码进行截取，长度大于240去除，小于300补0\n",
    "        \n",
    "        if len(bin_)<=240:\n",
    "            bin_=bin_.ljust(240,'0')\n",
    "        else:\n",
    "            bin_=bin_[0:240]'''\n",
    "            \n",
    "        #print(bin_)    \n",
    "        XX[i,0]=bin_\n",
    "        Y.append(targets)\n",
    "        \n",
    "                          \n",
    "    dataset1={}\n",
    "    dataset1['data']=XX\n",
    "    dataset1['target'] = Y\n",
    "    sio.savemat(savefile,dataset1)\n",
    "    \n",
    "    plt.bar(range(len(num_list)), num_list)\n",
    "    plt.show()\n",
    "                          \n",
    "                          \n",
    "\n"
   ]
  },
  {
   "cell_type": "code",
   "execution_count": null,
   "metadata": {},
   "outputs": [],
   "source": [
    "positive_target = [0,1]\n",
    "negativ_target = [1,0]\n",
    " \n",
    "Seg2Bin('data\\\\train_correct.mat','data\\\\train_correct_Bin.mat' ,positive_target)\n"
   ]
  },
  {
   "cell_type": "code",
   "execution_count": null,
   "metadata": {},
   "outputs": [],
   "source": [
    "data1 = sio.loadmat('data\\\\train_correct_Bin.mat')\n",
    "X = data1['data']\n",
    "Y = data1['target']\n",
    "print(len(X))\n",
    "print(X[483])"
   ]
  },
  {
   "cell_type": "code",
   "execution_count": null,
   "metadata": {},
   "outputs": [],
   "source": [
    "abc='hhhhhhhhhhhhhh'\n",
    "\n",
    "if len(abc)<=5:\n",
    "    abc=abc.ljust(300,'0')\n",
    "else:\n",
    "    abc=abc[0:5]\n",
    "print(abc)"
   ]
  },
  {
   "cell_type": "markdown",
   "metadata": {},
   "source": [
    "# 测试：单条序列元胞自动机演化"
   ]
  },
  {
   "cell_type": "code",
   "execution_count": null,
   "metadata": {},
   "outputs": [],
   "source": [
    "# \n",
    "rule_84_nb = ['111','110','101','100','011','010','001','000']  \n",
    "rule_84_bit = ['0',  '1',  '0',  '1',  '0',  '1',  '0',  '0']  #84代表二进制 010100100\n",
    "#\n",
    "bbbb=X[0]\n",
    "ab=bbbb[len(bbbb)-1]+bbbb+bbbb[0]  #演化规则：将最后一位补到头部，第一位补到尾部 则长度为115+2=117\n",
    "#bbbb[0:115]\n",
    "#ab[0:117]\n",
    "\n",
    "print('',bbbb)\n",
    "print(ab)\n",
    "new_ab=''\n",
    "for k in range(len(ab)-2):\n",
    "    nb = ab[k:k+3]  #滑窗得到邻居\n",
    "    index_= rule_84_nb.index(nb)\n",
    "    rule_bit = rule_84_bit[index_]\n",
    "    new_ab = new_ab + rule_bit\n",
    "print(nb)\n",
    "print(index_,rule_bit)\n",
    "print(new_ab)\n"
   ]
  },
  {
   "cell_type": "code",
   "execution_count": null,
   "metadata": {},
   "outputs": [],
   "source": []
  },
  {
   "cell_type": "markdown",
   "metadata": {},
   "source": [
    "# 4.1 元胞自动机演化模型"
   ]
  },
  {
   "cell_type": "code",
   "execution_count": null,
   "metadata": {},
   "outputs": [],
   "source": [
    "rule_84_nb = ['111','110','101','100','011','010','001','000']  \n",
    "rule_84_bit = ['0',  '1',  '0',  '1',  '0',  '1',  '0',  '0']\n",
    "def Cellular_Automata(stra):\n",
    "\n",
    "    xs=stra\n",
    "    ab=xs[len(xs)-1]+xs+xs[0]  #演化规则：将最后一位补到头部，第一位补到尾部 则长度为115+2=117\n",
    "    \n",
    "    #xs[0:115]\n",
    "    #ab[0:117]\n",
    "    new_ab=''\n",
    "    \n",
    "    for k in range(len(ab)-2):\n",
    "        nb = ab[k:k+3]  #滑窗得到邻居\n",
    "        index_= rule_84_nb.index(nb)\n",
    "        rule_bit = rule_84_bit[index_]\n",
    "        new_ab = new_ab + rule_bit\n",
    "    \n",
    "    return new_ab\n",
    "\n"
   ]
  },
  {
   "cell_type": "markdown",
   "metadata": {},
   "source": [
    "# 4.2 对二进制序列进行元胞自动机处理"
   ]
  },
  {
   "cell_type": "code",
   "execution_count": null,
   "metadata": {},
   "outputs": [],
   "source": [
    "def Bin2Cellauto(binfile,epochs,savefile):\n",
    "    \n",
    "    data1 = sio.loadmat(binfile)\n",
    "    X = data1['data']\n",
    "    #Y = data1['target']\n",
    "    dataset={}\n",
    "    XSS=[]\n",
    "    epoch=epochs #定义迭代次数\n",
    "    t = 0\n",
    "    for k in range(len(X)):\n",
    "        bin_2=X[k,0]\n",
    "        #print(len(bin_2))\n",
    "        XS=np.zeros(shape=(epoch,len(bin_2)), dtype=np.int16)\n",
    "\n",
    "        cellauto_bin=bin_2\n",
    "        \n",
    "        for j in range(epoch): \n",
    "\n",
    "            cellauto_bin = Cellular_Automata(cellauto_bin)\n",
    "            result = list(cellauto_bin)   \n",
    "            results = np.array(result, dtype=np.int16) #将list中的字符型转变为数值型\n",
    "#             if j>399 :\n",
    "            \n",
    "            XS[j]=results\n",
    "        \n",
    "        dataset[str(t)]=XS\n",
    "        #print(cellauto_bin)\n",
    "\n",
    "        #XSS.insert(t,XS)\n",
    "        t+=1\n",
    "\n",
    "    \n",
    "    #dataset['data']=XSS\n",
    "    #dataset['target'] = Y\n",
    "    sio.savemat(savefile,dataset)\n",
    "    #return XSS\n"
   ]
  },
  {
   "cell_type": "code",
   "execution_count": null,
   "metadata": {},
   "outputs": [],
   "source": [
    "Bin2Cellauto('data\\\\train_correct_Bin.mat',100,'data\\\\train_correct_Cellauto_100.mat')\n"
   ]
  },
  {
   "cell_type": "code",
   "execution_count": null,
   "metadata": {},
   "outputs": [],
   "source": [
    "data1 = sio.loadmat('data\\\\train_correct_Cellauto_100.mat')\n",
    "X = data1['0']\n",
    "print(X.shape)"
   ]
  },
  {
   "cell_type": "code",
   "execution_count": null,
   "metadata": {},
   "outputs": [],
   "source": [
    "def data_process(): \n",
    "\n",
    "    #正样本训练集\n",
    "    txt2mat(positive_training_data,'data\\\\train_correct.mat')# ,positive_target) \n",
    "    \n",
    "    #负样本训练集\n",
    "    txt2mat(negative_training_data,'data\\\\train_wrong.mat')# ,negativ_target) \n",
    "    \n",
    "    #正样本测试集\n",
    "    txt2mat(positive_testing_data,'data\\\\test_correct.mat')# ,positive_target) \n",
    "    \n",
    "    #负样本测试集\n",
    "    txt2mat(negative_testing_data,'data\\\\test_wrong')# ,negativ_target) \n",
    "    print('序列文件已保存！')\n",
    "    \n",
    "    positive_target = [0,1]\n",
    "    negativ_target = [1,0]\n",
    "    Seg2Bin('data\\\\train_correct.mat','data\\\\train_correct_Bin.mat' ,positive_target)\n",
    "    Seg2Bin('data\\\\train_wrong.mat','data\\\\train_wrong_Bin.mat' ,negativ_target)\n",
    "    Seg2Bin('data\\\\test_correct.mat','data\\\\test_correct_Bin.mat' ,positive_target)\n",
    "    Seg2Bin('data\\\\test_wrong.mat','data\\\\test_wrong_Bin.mat' ,negativ_target)\n",
    "    \n",
    "    Bin2Cellauto('data\\\\train_correct_Bin.mat',100,'data\\\\train_correct_Cellauto_100.mat')\n",
    "    Bin2Cellauto('data\\\\train_wrong_Bin.mat',100,'data\\\\train_wrong_Cellauto_100.mat')\n",
    "    Bin2Cellauto('data\\\\test_correct_Bin.mat',100,'data\\\\test_correct_Cellauto_100.mat')\n",
    "    Bin2Cellauto('data\\\\test_wrong_Bin.mat',100,'data\\\\test_wrong_Cellauto_100.mat')\n",
    "    "
   ]
  },
  {
   "cell_type": "code",
   "execution_count": null,
   "metadata": {},
   "outputs": [],
   "source": [
    "data_process()"
   ]
  },
  {
   "cell_type": "code",
   "execution_count": null,
   "metadata": {
    "scrolled": false
   },
   "outputs": [],
   "source": [
    "data2 = sio.loadmat('data\\\\train_correct_Cellauto_100.mat')\n",
    "X2 = data2['data']\n",
    "Y2 = data2['target']\n"
   ]
  },
  {
   "cell_type": "code",
   "execution_count": null,
   "metadata": {},
   "outputs": [],
   "source": [
    "\n",
    "X2[57347,0:3]"
   ]
  },
  {
   "cell_type": "markdown",
   "metadata": {},
   "source": [
    "# 5、生成图片"
   ]
  },
  {
   "cell_type": "code",
   "execution_count": 3,
   "metadata": {},
   "outputs": [
    {
     "name": "stderr",
     "output_type": "stream",
     "text": [
      "D:\\Program Files\\Anaconda3\\envs\\tensorflow\\lib\\site-packages\\skimage\\transform\\_warps.py:105: UserWarning: The default mode, 'constant', will be changed to 'reflect' in skimage 0.15.\n",
      "  warn(\"The default mode, 'constant', will be changed to 'reflect' in \"\n",
      "D:\\Program Files\\Anaconda3\\envs\\tensorflow\\lib\\site-packages\\skimage\\transform\\_warps.py:110: UserWarning: Anti-aliasing will be enabled by default in skimage 0.15 to avoid aliasing artifacts when down-sampling images.\n",
      "  warn(\"Anti-aliasing will be enabled by default in skimage 0.15 to \"\n"
     ]
    }
   ],
   "source": [
    "from skimage import transform,data\n",
    "import matplotlib.pyplot as plt\n",
    "\n",
    "data=sio.loadmat('data\\\\train_correct_Cellauto_100.mat')\n",
    "\n",
    "#print(data)\n",
    "# N = d.shape[0]\n",
    "for i in range(484):\n",
    "    \n",
    "    img1 = Image.fromarray(data[str(i)]*255,'L')\n",
    "    \n",
    "    img1.save('data\\\\train_correct\\\\' + str(i) + '.jpg','jpeg')\n",
    "    \n",
    "    dst1=transform.resize(data[str(i)], (32, 32))\n",
    "    dst1 = Image.fromarray(dst1,'L')\n",
    "    dst1.save('data\\\\train_correct_resize\\\\' + str(i) + '.jpg','jpeg')"
   ]
  },
  {
   "cell_type": "code",
   "execution_count": 5,
   "metadata": {},
   "outputs": [
    {
     "name": "stderr",
     "output_type": "stream",
     "text": [
      "D:\\Program Files\\Anaconda3\\envs\\tensorflow\\lib\\site-packages\\skimage\\transform\\_warps.py:105: UserWarning: The default mode, 'constant', will be changed to 'reflect' in skimage 0.15.\n",
      "  warn(\"The default mode, 'constant', will be changed to 'reflect' in \"\n",
      "D:\\Program Files\\Anaconda3\\envs\\tensorflow\\lib\\site-packages\\skimage\\transform\\_warps.py:110: UserWarning: Anti-aliasing will be enabled by default in skimage 0.15 to avoid aliasing artifacts when down-sampling images.\n",
      "  warn(\"Anti-aliasing will be enabled by default in skimage 0.15 to \"\n"
     ]
    }
   ],
   "source": [
    "\n",
    "\n",
    "data1=sio.loadmat('data\\\\train_wrong_Cellauto_100.mat')\n",
    "\n",
    "#print(data)\n",
    "# N = d.shape[0]\n",
    "for i in range(484):\n",
    "    \n",
    "    img2 = Image.fromarray(data1[str(i)]*255,'L')\n",
    "    img2.save('data\\\\train_wrong\\\\' + str(i) + '.jpg','jpeg')\n",
    "    \n",
    "    \n",
    "    dst2=transform.resize(data1[str(i)], (32, 32))\n",
    "    dst2 = Image.fromarray(dst2,'L')   \n",
    "    dst2.save('data\\\\train_wrong_resize\\\\' + str(i) + '.jpg','jpeg')"
   ]
  },
  {
   "cell_type": "code",
   "execution_count": 6,
   "metadata": {},
   "outputs": [
    {
     "name": "stderr",
     "output_type": "stream",
     "text": [
      "D:\\Program Files\\Anaconda3\\envs\\tensorflow\\lib\\site-packages\\skimage\\transform\\_warps.py:105: UserWarning: The default mode, 'constant', will be changed to 'reflect' in skimage 0.15.\n",
      "  warn(\"The default mode, 'constant', will be changed to 'reflect' in \"\n",
      "D:\\Program Files\\Anaconda3\\envs\\tensorflow\\lib\\site-packages\\skimage\\transform\\_warps.py:110: UserWarning: Anti-aliasing will be enabled by default in skimage 0.15 to avoid aliasing artifacts when down-sampling images.\n",
      "  warn(\"Anti-aliasing will be enabled by default in skimage 0.15 to \"\n"
     ]
    }
   ],
   "source": [
    "\n",
    "\n",
    "data2=sio.loadmat('data\\\\test_correct_Cellauto_100.mat')\n",
    "\n",
    "#print(data)\n",
    "# N = d.shape[0]\n",
    "for i in range(124):\n",
    "    \n",
    "    img3 = Image.fromarray(data2[str(i)]*255,'L')\n",
    "    img3.save('data\\\\test_correct\\\\' + str(i) + '.jpg','jpeg')\n",
    "    \n",
    "    dst3=transform.resize(data2[str(i)], (32, 32))\n",
    "    dst3 = Image.fromarray(dst3,'L')   \n",
    "    dst3.save('data\\\\test_correct_resize\\\\' + str(i) + '.jpg','jpeg')"
   ]
  },
  {
   "cell_type": "code",
   "execution_count": 7,
   "metadata": {},
   "outputs": [
    {
     "name": "stderr",
     "output_type": "stream",
     "text": [
      "D:\\Program Files\\Anaconda3\\envs\\tensorflow\\lib\\site-packages\\skimage\\transform\\_warps.py:105: UserWarning: The default mode, 'constant', will be changed to 'reflect' in skimage 0.15.\n",
      "  warn(\"The default mode, 'constant', will be changed to 'reflect' in \"\n",
      "D:\\Program Files\\Anaconda3\\envs\\tensorflow\\lib\\site-packages\\skimage\\transform\\_warps.py:110: UserWarning: Anti-aliasing will be enabled by default in skimage 0.15 to avoid aliasing artifacts when down-sampling images.\n",
      "  warn(\"Anti-aliasing will be enabled by default in skimage 0.15 to \"\n"
     ]
    }
   ],
   "source": [
    "\n",
    "\n",
    "data3=sio.loadmat('data\\\\test_wrong_Cellauto_100.mat')\n",
    "\n",
    "#print(data)\n",
    "# N = d.shape[0]\n",
    "for i in range(124):\n",
    "    \n",
    "    img4 = Image.fromarray(data3[str(i)]*255,'L')\n",
    "    img4.save('data\\\\test_wrong\\\\' + str(i) + '.jpg','jpeg')\n",
    "    \n",
    "    dst4=transform.resize(data3[str(i)], (32, 32))\n",
    "    dst4 = Image.fromarray(dst4,'L')   \n",
    "    dst4.save('data\\\\test_wrong_resize\\\\' + str(i) + '.jpg','jpeg')"
   ]
  },
  {
   "cell_type": "code",
   "execution_count": null,
   "metadata": {},
   "outputs": [],
   "source": []
  },
  {
   "cell_type": "markdown",
   "metadata": {},
   "source": [
    "# 修改图片测试"
   ]
  },
  {
   "cell_type": "code",
   "execution_count": 36,
   "metadata": {},
   "outputs": [
    {
     "name": "stderr",
     "output_type": "stream",
     "text": [
      "D:\\Program Files\\Anaconda3\\envs\\tensorflow\\lib\\site-packages\\skimage\\transform\\_warps.py:105: UserWarning: The default mode, 'constant', will be changed to 'reflect' in skimage 0.15.\n",
      "  warn(\"The default mode, 'constant', will be changed to 'reflect' in \"\n",
      "D:\\Program Files\\Anaconda3\\envs\\tensorflow\\lib\\site-packages\\skimage\\transform\\_warps.py:110: UserWarning: Anti-aliasing will be enabled by default in skimage 0.15 to avoid aliasing artifacts when down-sampling images.\n",
      "  warn(\"Anti-aliasing will be enabled by default in skimage 0.15 to \"\n"
     ]
    },
    {
     "data": {
      "image/png": "[encoded data removed]",
      "text/plain": [
       "<Figure size 432x288 with 1 Axes>"
      ]
     },
     "metadata": {},
     "output_type": "display_data"
    }
   ],
   "source": [
    "from skimage import transform,data\n",
    "import matplotlib.pyplot as plt\n",
    "data=sio.loadmat('train_wrong_Cellauto_100.mat')\n",
    "a=data['310']\n",
    "img = a\n",
    "\n",
    "dst=transform.resize(img, (32, 32))\n",
    "plt.figure('resize')\n",
    "plt.imshow(dst,plt.cm.gray)\n",
    "\n",
    "dst = Image.fromarray(dst,'L')\n",
    "\n",
    "\n",
    "dst.save('resize111.jpg','jpeg')"
   ]
  },
  {
   "cell_type": "code",
   "execution_count": null,
   "metadata": {},
   "outputs": [],
   "source": []
  },
  {
   "cell_type": "code",
   "execution_count": 29,
   "metadata": {},
   "outputs": [
    {
     "name": "stderr",
     "output_type": "stream",
     "text": [
      "D:\\Program Files\\Anaconda3\\envs\\tensorflow\\lib\\site-packages\\skimage\\transform\\_warps.py:105: UserWarning: The default mode, 'constant', will be changed to 'reflect' in skimage 0.15.\n",
      "  warn(\"The default mode, 'constant', will be changed to 'reflect' in \"\n",
      "D:\\Program Files\\Anaconda3\\envs\\tensorflow\\lib\\site-packages\\skimage\\transform\\_warps.py:110: UserWarning: Anti-aliasing will be enabled by default in skimage 0.15 to avoid aliasing artifacts when down-sampling images.\n",
      "  warn(\"Anti-aliasing will be enabled by default in skimage 0.15 to \"\n"
     ]
    },
    {
     "data": {
      "text/plain": [
       "<matplotlib.image.AxesImage at 0x1fa07aa89e8>"
      ]
     },
     "execution_count": 29,
     "metadata": {},
     "output_type": "execute_result"
    },
    {
     "data": {
      "image/png": "[encoded data removed]",
      "text/plain": [
       "<Figure size 432x288 with 1 Axes>"
      ]
     },
     "metadata": {},
     "output_type": "display_data"
    }
   ],
   "source": [
    "from skimage import transform,data\n",
    "import matplotlib.pyplot as plt\n",
    "img=Image.open('train_correct\\\\410.jpg')\n",
    "#train_wrong\n",
    "\n",
    "img = np.array(img)\n",
    "plt.imshow(img,plt.cm.gray)\n",
    "dst=transform.resize(img, (32, 32))\n",
    "\n",
    "#new_img=img.resize((32,32),Image.BILINEAR)\n",
    "#dst=transform.resize(img, (32, 32))\n",
    "#new_img.save('resize_.jpg','jpeg')\n",
    "\n",
    "# plt.figure('resize')\n",
    "plt.imshow(dst,plt.cm.gray)\n",
    "\n"
   ]
  },
  {
   "cell_type": "code",
   "execution_count": null,
   "metadata": {},
   "outputs": [],
   "source": [
    "from PIL import Image\n",
    "img1 = Image.open('train_wrong\\\\1.jpg')\n",
    "img1=img1.resize((32,32))\n",
    "img1.show()"
   ]
  },
  {
   "cell_type": "code",
   "execution_count": null,
   "metadata": {},
   "outputs": [],
   "source": []
  },
  {
   "cell_type": "code",
   "execution_count": null,
   "metadata": {},
   "outputs": [],
   "source": []
  }
 ],
 "metadata": {
  "kernelspec": {
   "display_name": "Python 3",
   "language": "python",
   "name": "python3"
  },
  "language_info": {
   "codemirror_mode": {
    "name": "ipython",
    "version": 3
   },
   "file_extension": ".py",
   "mimetype": "text/x-python",
   "name": "python",
   "nbconvert_exporter": "python",
   "pygments_lexer": "ipython3",
   "version": "3.6.5"
  }
 },
 "nbformat": 4,
 "nbformat_minor": 2
}
