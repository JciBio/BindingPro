{
 "cells": [
  {
   "cell_type": "code",
   "execution_count": 6,
   "metadata": {
    "scrolled": false
   },
   "outputs": [
    {
     "name": "stdout",
     "output_type": "stream",
     "text": [
      "yes!\n"
     ]
    }
   ],
   "source": [
    "import numpy as np\n",
    "import scipy.io as sio\n",
    "from sklearn.model_selection import KFold\n",
    "import tensorflow as tf\n",
    "\n",
    "X_N = []\n",
    "Y_N = []\n",
    "X_P = []\n",
    "Y_P = []\n",
    "\n",
    "data = sio.loadmat('data\\\\PDNA-224-ONEHOT-11.mat')\n",
    "X = data['data']\n",
    "data_size=len(X)\n",
    "Y = data['target']\n",
    "\n",
    "#print(type(X))\n",
    "\n",
    "\n",
    "for sss in range(data_size):\n",
    "    if Y[sss][1] == 1: #判定是否为正样本\n",
    "        #print(X[sss],Y[sss])\n",
    "        X_P.append(X[sss])\n",
    "        Y_P.append(Y[sss])\n",
    "        #print(X[sss])\n",
    "    else:\n",
    "        X_N.append(X[sss])\n",
    "        Y_N.append(Y[sss])\n",
    "    \n",
    "#将正样本保存到mat文件中\n",
    "P_dataset={}\n",
    "P_dataset['p_data']=X_P\n",
    "P_dataset['p_target'] = Y_P\n",
    "sio.savemat('data\\\\PDNA-224-ONEHOT-11-P.mat',P_dataset)\n",
    "\n",
    "#将负样本保存到mat文件中\n",
    "N_dataset={}\n",
    "N_dataset['n_data']=X_N\n",
    "N_dataset['n_target'] = Y_N\n",
    "sio.savemat('data\\\\PDNA-224-ONEHOT-11-N.mat',N_dataset)\n",
    "print('yes!')\n",
    "  "
   ]
  },
  {
   "cell_type": "code",
   "execution_count": null,
   "metadata": {},
   "outputs": [],
   "source": []
  },
  {
   "cell_type": "code",
   "execution_count": 7,
   "metadata": {},
   "outputs": [
    {
     "name": "stdout",
     "output_type": "stream",
     "text": [
      "yes!\n"
     ]
    }
   ],
   "source": [
    "import numpy as np\n",
    "import scipy.io as sio\n",
    "from sklearn.model_selection import KFold\n",
    "import tensorflow as tf\n",
    "\n",
    "X_N = []\n",
    "Y_N = []\n",
    "X_P = []\n",
    "Y_P = []\n",
    "\n",
    "data = sio.loadmat('data\\\\PDNA-224-ONEHOT-11-01.mat')\n",
    "X = data['data']\n",
    "data_size=len(X)\n",
    "Y = data['target']\n",
    "\n",
    "#print(type(X))\n",
    "\n",
    "\n",
    "\n",
    "for sss in range(data_size):\n",
    "    if Y[sss][0] == 1: #判定是否为正样本\n",
    "        #print(X[sss],Y[sss])\n",
    "        X_P.append(X[sss])\n",
    "        Y_P.append(Y[sss])\n",
    "        #print(X[sss])\n",
    "    else:\n",
    "        X_N.append(X[sss])\n",
    "        Y_N.append(Y[sss])\n",
    "    \n",
    "#将正样本保存到mat文件中\n",
    "P_dataset={}\n",
    "P_dataset['p_data']=X_P\n",
    "P_dataset['p_target'] = Y_P\n",
    "sio.savemat('data\\\\PDNA-224-ONEHOT-11-01-P.mat',P_dataset)\n",
    "\n",
    "#将负样本保存到mat文件中\n",
    "N_dataset={}\n",
    "N_dataset['n_data']=X_N\n",
    "N_dataset['n_target'] = Y_N\n",
    "sio.savemat('data\\\\PDNA-224-ONEHOT-11-01-N.mat',N_dataset)\n",
    "print('yes!')\n",
    "  "
   ]
  },
  {
   "cell_type": "code",
   "execution_count": null,
   "metadata": {},
   "outputs": [],
   "source": []
  }
 ],
 "metadata": {
  "kernelspec": {
   "display_name": "Python 3",
   "language": "python",
   "name": "python3"
  },
  "language_info": {
   "codemirror_mode": {
    "name": "ipython",
    "version": 3
   },
   "file_extension": ".py",
   "mimetype": "text/x-python",
   "name": "python",
   "nbconvert_exporter": "python",
   "pygments_lexer": "ipython3",
   "version": "3.6.5"
  }
 },
 "nbformat": 4,
 "nbformat_minor": 2
}
