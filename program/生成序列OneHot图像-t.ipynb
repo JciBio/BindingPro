{
 "cells": [
  {
   "cell_type": "code",
   "execution_count": 19,
   "metadata": {},
   "outputs": [],
   "source": [
    "import matplotlib.pyplot as plt\n",
    "import scipy.io as sio\n",
    "from PIL import Image\n",
    "data=sio.loadmat('data\\\\PDNA-224-ONEHOT-11-P.mat')\n",
    "\n",
    "#print(data)\n",
    "d = data['p_data']\n",
    "N = d.shape[0]\n",
    "for i in range(N):\n",
    "    img = Image.fromarray(d[i]*255,'L')\n",
    "    img.save('data\\\\img\\\\positive\\\\' + str(i) + '.jpg','jpeg')"
   ]
  },
  {
   "cell_type": "code",
   "execution_count": 21,
   "metadata": {},
   "outputs": [],
   "source": [
    "import matplotlib.pyplot as plt\n",
    "import scipy.io as sio\n",
    "from PIL import Image\n",
    "data=sio.loadmat('data\\PDNA-224-ONEHOT-11-N.mat')\n",
    "d = data['n_data']\n",
    "N = d.shape[0]\n",
    "for i in range(N):\n",
    "    img = Image.fromarray(d[i]*255,'L')\n",
    "    img.save('data\\\\img\\\\negro\\\\' + str(i) + '.jpg','jpeg')"
   ]
  },
  {
   "cell_type": "code",
   "execution_count": 4,
   "metadata": {},
   "outputs": [],
   "source": [
    "import matplotlib.pyplot as plt\n",
    "import scipy.io as sio\n",
    "from PIL import Image\n",
    "data = sio.loadmat('data\\\\PDNA-224-OneHot-15.mat')\n",
    "d = data['data']\n",
    "Y = data['target']\n",
    "N = d.shape[0]\n",
    "n = 0\n",
    "m = 0\n",
    "for i in range(N):\n",
    "    img = Image.fromarray(d[i]*255,'L')\n",
    "    if Y[i][0]==1:\n",
    "        img.save('data\\\\img-15\\\\negative\\\\' + str(n) + '.jpg', 'jpeg')\n",
    "        n = n + 1\n",
    "    else:\n",
    "        img.save('data\\\\img-15\\\\positive\\\\' + str(m) + '.jpg', 'jpeg')\n",
    "        m = m + 1"
   ]
  },
  {
   "cell_type": "code",
   "execution_count": null,
   "metadata": {},
   "outputs": [],
   "source": []
  }
 ],
 "metadata": {
  "kernelspec": {
   "display_name": "Python 3",
   "language": "python",
   "name": "python3"
  },
  "language_info": {
   "codemirror_mode": {
    "name": "ipython",
    "version": 3
   },
   "file_extension": ".py",
   "mimetype": "text/x-python",
   "name": "python",
   "nbconvert_exporter": "python",
   "pygments_lexer": "ipython3",
   "version": "3.6.5"
  }
 },
 "nbformat": 4,
 "nbformat_minor": 2
}
