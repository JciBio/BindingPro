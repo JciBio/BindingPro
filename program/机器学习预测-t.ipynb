{
 "cells": [
  {
   "cell_type": "code",
   "execution_count": 7,
   "metadata": {},
   "outputs": [],
   "source": [
    "from sklearn.ensemble import RandomForestClassifier\n",
    "from sklearn.datasets import make_classification\n",
    "from sklearn.model_selection import cross_val_score\n",
    "from sklearn.model_selection import KFold\n",
    "from sklearn.metrics import matthews_corrcoef\n",
    "from sklearn.metrics import roc_auc_score\n",
    "import scipy.io as sio\n",
    "import numpy as np"
   ]
  },
  {
   "cell_type": "code",
   "execution_count": 3,
   "metadata": {},
   "outputs": [],
   "source": [
    "# 读取使用InceptionV3网络迁移学习得到的向量值。\n",
    "data = sio.loadmat('data\\\\inceptionV3-bottleneck-15.mat') \n",
    "X = data['data'] # 样本的特征向量，是一个N行的list，每一行是一个2048维的向量\n",
    "Y = data['target'] # 样本的标签，是一个N行2列，每一行是一个2位向量，第一维0表示正类，1表示负类\n",
    "y = [yy[1] for yy in Y]"
   ]
  },
  {
   "cell_type": "code",
   "execution_count": 22,
   "metadata": {},
   "outputs": [],
   "source": [
    "# 使用随机森林分类器做5折叠交叉验证\n",
    "X = np.array(X)\n",
    "y = np.array(y)\n",
    "predict_score = np.zeros((len(X),2),dtype=np.float)\n",
    "\n",
    "kf = KFold(n_splits=5,shuffle=True,random_state=0)\n",
    "for train_index , test_index in kf.split(X):\n",
    "    train_y = y[train_index]\n",
    "    train_X, train_y = X[train_index], y[train_index]\n",
    "    test_X, test_y = X[test_index], y[test_index]\n",
    "    \n",
    "    clf = RandomForestClassifier(max_depth=2, random_state=0)\n",
    "    clf.fit(train_X, train_y)\n",
    "    predict_score[test_index] = clf.predict_proba(test_X)\n"
   ]
  },
  {
   "cell_type": "code",
   "execution_count": null,
   "metadata": {},
   "outputs": [],
   "source": [
    "clf = RandomForestClassifier()\n",
    "print(cross_val_score(clf, X, y, cv=5))\n",
    "# 输出[0.93339146 0.93321709 0.93356582 0.93364722 0.93364722]"
   ]
  },
  {
   "cell_type": "code",
   "execution_count": 26,
   "metadata": {},
   "outputs": [
    {
     "data": {
      "text/plain": [
       "0.5504730999638021"
      ]
     },
     "execution_count": 26,
     "metadata": {},
     "output_type": "execute_result"
    }
   ],
   "source": [
    "roc_auc_score(y,predict_score[:,1])"
   ]
  },
  {
   "cell_type": "code",
   "execution_count": 25,
   "metadata": {},
   "outputs": [
    {
     "data": {
      "text/plain": [
       "array([0.07295492, 0.06644257, 0.06109261, ..., 0.06240357, 0.06803083,\n",
       "       0.07153316])"
      ]
     },
     "execution_count": 25,
     "metadata": {},
     "output_type": "execute_result"
    }
   ],
   "source": [
    "predict_score[:,1]"
   ]
  }
 ],
 "metadata": {
  "kernelspec": {
   "display_name": "Python 3",
   "language": "python",
   "name": "python3"
  },
  "language_info": {
   "codemirror_mode": {
    "name": "ipython",
    "version": 3
   },
   "file_extension": ".py",
   "mimetype": "text/x-python",
   "name": "python",
   "nbconvert_exporter": "python",
   "pygments_lexer": "ipython3",
   "version": "3.6.5"
  }
 },
 "nbformat": 4,
 "nbformat_minor": 2
}
