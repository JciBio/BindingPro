{
 "cells": [
  {
   "cell_type": "code",
   "execution_count": 10,
   "metadata": {
    "scrolled": true
   },
   "outputs": [
    {
     "name": "stdout",
     "output_type": "stream",
     "text": [
      "yes!\n"
     ]
    }
   ],
   "source": [
    "# encoding: UTF-8\n",
    "import re\n",
    "from Bio.Blast.Applications import NcbipsiblastCommandline\n",
    "from Bio import SeqIO\n",
    "from Bio import SwissProt\n",
    "import os\n",
    "from numpy import argmax\n",
    "from numpy import *\n",
    "\n",
    "\n",
    "\n",
    "dataset1={}\n",
    "\n",
    "for seq_record in SeqIO.parse('PDNA-224.fasta', 'fasta'):\n",
    "    #print('seq_record:  ',seq_record)\n",
    "    #print(seq_record.seq)\n",
    "    #print('{} is calculating pssm'.format(seq_record.id))\n",
    "#     #print('')\n",
    "#     if os.path.exists(inputfile):\n",
    "#         os.remove( inputfile)\n",
    "#     ont_hotfile = \"\".join( ('One_Hot', '_', seq_record.id, '.txt'))\n",
    "#     print(ont_hotfile)\n",
    "\n",
    "#     SeqIO.write( seq_record,inputfile, 'fasta')\n",
    "    \n",
    "    data = seq_record.seq\n",
    "    # define universe of possible input values\n",
    "    alphabet =  'GAVLIPFYWSTCMNQDEKRH'\n",
    "    #\n",
    "    # define a mapping of chars to integers\n",
    "    char_to_int = dict((c, i) for i, c in enumerate(alphabet))\n",
    "    char_to_int['X'] = 20\n",
    "    int_to_char = dict((i, c) for i, c in enumerate(alphabet))\n",
    "    int_to_char[20] = 'X'\n",
    "#     print(char_to_int)\n",
    "#     print(int_to_char)\n",
    "    # integer encode input data\n",
    "    integer_encoded = [char_to_int[char] for char in data]\n",
    "#     #通过正则得出乱码所在位置\n",
    "#     str1=data\n",
    "#     word = u'[^GAVLIPFYWSTCMNQDEKRH]'\n",
    "#     a = [m.start() for m in re.finditer(word, str1)]\n",
    "#     print(a)\n",
    "\n",
    "    # one hot 编码\n",
    "    #print(integer_encoded)\n",
    "    onehot_encoded = list()\n",
    "    for value in integer_encoded:\n",
    "        if value==20:\n",
    "            letter1=[1/21]*20\n",
    "            onehot_encoded.append(letter1)\n",
    "        else:\n",
    "            letter = [0 for _ in range(20)]\n",
    "            letter[value] = 1\n",
    "            onehot_encoded.append(letter)\n",
    "    onehot_encoded = np.array(onehot_encoded)\n",
    "    #print(onehot_encoded)\n",
    "    # invert encoding\n",
    "    \n",
    "    dataset1[seq_record.id]=onehot_encoded\n",
    "\n",
    "    sio.savemat('PDNA-224-onehot.mat',dataset1)\n",
    "\n",
    "\n",
    "print('yes!')"
   ]
  },
  {
   "cell_type": "code",
   "execution_count": null,
   "metadata": {},
   "outputs": [],
   "source": []
  },
  {
   "cell_type": "code",
   "execution_count": null,
   "metadata": {},
   "outputs": [],
   "source": []
  }
 ],
 "metadata": {
  "kernelspec": {
   "display_name": "Python 3",
   "language": "python",
   "name": "python3"
  },
  "language_info": {
   "codemirror_mode": {
    "name": "ipython",
    "version": 3
   },
   "file_extension": ".py",
   "mimetype": "text/x-python",
   "name": "python",
   "nbconvert_exporter": "python",
   "pygments_lexer": "ipython3",
   "version": "3.6.5"
  }
 },
 "nbformat": 4,
 "nbformat_minor": 2
}
