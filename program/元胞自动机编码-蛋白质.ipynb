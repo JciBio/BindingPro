{
 "cells": [
  {
   "cell_type": "markdown",
   "metadata": {},
   "source": [
    "## 1、导入库"
   ]
  },
  {
   "cell_type": "code",
   "execution_count": 1,
   "metadata": {},
   "outputs": [],
   "source": [
    "# encoding: UTF-8\n",
    "import re\n",
    "import os\n",
    "import numpy as np\n",
    "import scipy.io as sio\n",
    "from Bio import SeqIO\n",
    "import tensorflow as tf\n",
    "from time import time\n",
    "from sklearn.model_selection import KFold\n",
    "from sklearn.metrics import confusion_matrix\n",
    "from sklearn.utils import shuffle\n",
    "import matplotlib.pyplot as plt"
   ]
  },
  {
   "cell_type": "markdown",
   "metadata": {},
   "source": [
    "## 2、氨基酸序列的01编码"
   ]
  },
  {
   "cell_type": "code",
   "execution_count": null,
   "metadata": {},
   "outputs": [],
   "source": [
    "# 把一个氨基酸序列转换为一个ONE HOT二维数组。氨基酸序列长度为N，数组是N-by-21，21表示 'GAVLIPFYWSTCMNQDEKRHX'这21个氨基酸缩写字符\n",
    "def seq2binary(sequence):\n",
    "    N = len(sequence)\n",
    "    result = np.zeros(shape=(N,21),dtype=np.int32)\n",
    "    alphabet = 'GAVLIPFYWSTCMNQDEKRHX'\n",
    "    char_to_int = dict((c, i) for i, c in enumerate(alphabet))\n",
    "    digseq = [char_to_int[char] for char in sequence]\n",
    "    for i in range(N):\n",
    "        result[i][digseq[i]] = 1\n",
    "    return result        "
   ]
  },
  {
   "cell_type": "markdown",
   "metadata": {},
   "source": [
    "## 3、根据序列的fasta文件构建数据集"
   ]
  },
  {
   "cell_type": "code",
   "execution_count": null,
   "metadata": {},
   "outputs": [],
   "source": [
    "def establishBenchmarkOneHot(fastaFile, saveFile):\n",
    "    SeqOneHot = {}\n",
    "    for seq_record in SeqIO.parse(fastaFile, 'fasta'):\n",
    "        s = seq_record.seq\n",
    "        r = seq2OneHotArray(s)\n",
    "        SeqOneHot[seq_record.name] = r\n",
    "   \n",
    "    sio.savemat(saveFile,Seq2bin)\n",
    "    "
   ]
  },
  {
   "cell_type": "markdown",
   "metadata": {},
   "source": [
    "## 4、根据binding site文件，构建数据集。按滑窗的方法，滑窗大小ws\n",
    "  - positive 是binting site序列\n",
    "  - negative 是not binding site"
   ]
  },
  {
   "cell_type": "code",
   "execution_count": null,
   "metadata": {},
   "outputs": [],
   "source": [
    "# 滑窗，不足的以头尾循环补\n",
    "def splitWindows(ws, matFile, sitesFile, saveFile):\n",
    "    SeqOneHot = sio.loadmat(matFile)\n",
    "    X = []\n",
    "    Y = []\n",
    "    k = 0\n",
    "    t = 0\n",
    "    with open(sitesFile, 'r') as pbsreader:\n",
    "        for line in pbsreader:\n",
    "            line = line.strip()\n",
    "            if '>' in line:\n",
    "                sid = line[1:]\n",
    "                p = SeqOneHot[sid]\n",
    "                seqlen = p.shape[0]\n",
    "                col = np.size(p,1)\n",
    "                for j in range(seqlen):\n",
    "                    #create a array\n",
    "                    d = np.zeros(shape=(ws*2+1,col), dtype=np.int32)\n",
    "                    if j < ws:\n",
    "                        d[0:ws-j] = p[j-ws:]\n",
    "                        d[ws-j:2*ws+1] = p[0: ws+j+1]\n",
    "                    elif j > seqlen - ws -1:\n",
    "                        d[0:ws] = p[j-ws:j]\n",
    "                        d[ws:ws + seqlen -j] = p[j:]\n",
    "                        d[ws+seqlen-j:] = p[0:ws-seqlen+j+1]\n",
    "                    else:\n",
    "                        d[::]=p[j-ws:j+ws+1]\n",
    "                        \n",
    "                    X.insert(k,d)\n",
    "                    Y.append([1,0])\n",
    "                    k += 1\n",
    "            else:\n",
    "                sites = line.split()\n",
    "                for s in sites:\n",
    "                    idx = eval(s)\n",
    "                    Y[t + idx -1] = [0,1]\n",
    "                t=k  \n",
    "      \n",
    "    bindingsite = {}\n",
    "    negative = []\n",
    "    positive = []\n",
    "    for x,y in zip(X,Y):\n",
    "        if y[0] == 1:\n",
    "            negative.append(x)\n",
    "        else:\n",
    "            positive.append(x)\n",
    "    \n",
    "    bindingsite = {\n",
    "        'negative': negative,\n",
    "        'positive': positive\n",
    "    }\n",
    "    \n",
    "    sio.savemat(saveFile,bindingsite)"
   ]
  },
  {
   "cell_type": "markdown",
   "metadata": {},
   "source": [
    "## 5、元胞自动机算法"
   ]
  },
  {
   "cell_type": "code",
   "execution_count": null,
   "metadata": {},
   "outputs": [],
   "source": []
  },
  {
   "cell_type": "markdown",
   "metadata": {},
   "source": [
    "## 6、将元胞自动机序列转换为图像"
   ]
  },
  {
   "cell_type": "code",
   "execution_count": null,
   "metadata": {},
   "outputs": [],
   "source": []
  }
 ],
 "metadata": {
  "kernelspec": {
   "display_name": "Python 3",
   "language": "python",
   "name": "python3"
  },
  "language_info": {
   "codemirror_mode": {
    "name": "ipython",
    "version": 3
   },
   "file_extension": ".py",
   "mimetype": "text/x-python",
   "name": "python",
   "nbconvert_exporter": "python",
   "pygments_lexer": "ipython3",
   "version": "3.6.5"
  }
 },
 "nbformat": 4,
 "nbformat_minor": 2
}
