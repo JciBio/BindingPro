{
 "cells": [
  {
   "cell_type": "markdown",
   "metadata": {},
   "source": [
    "## 导入库"
   ]
  },
  {
   "cell_type": "code",
   "execution_count": 1,
   "metadata": {},
   "outputs": [],
   "source": [
    "#!/usr/bin/env python3\n",
    "# -*- coding: utf-8 -*-\n",
    "\"\"\"\n",
    "PDNA-迁移学习-测试集分开版\n",
    "\n",
    "\"\"\"\n",
    "import scipy.io as sio\n",
    "#from sklearn.model_selection import LeaveOneOut\n",
    "from sklearn.model_selection import KFold\n",
    "import tensorflow as tf\n",
    "import numpy as np\n",
    "import random\n",
    "from sklearn.metrics import confusion_matrix\n",
    "\n",
    "            "
   ]
  },
  {
   "cell_type": "markdown",
   "metadata": {},
   "source": [
    "## 得到训练集，测试集，验证集"
   ]
  },
  {
   "cell_type": "code",
   "execution_count": 3,
   "metadata": {},
   "outputs": [
    {
     "name": "stdout",
     "output_type": "stream",
     "text": [
      "N_p \t 3778\n",
      "N_n \t 53570\n",
      "N_test \t 1600\n",
      "52770\n"
     ]
    }
   ],
   "source": [
    "names = locals()\n",
    "#load benchmark dataset\n",
    "N_data = sio.loadmat('data\\\\PDNA-224-ONEHOT-11-N.mat')\n",
    "P_data = sio.loadmat('data\\\\PDNA-224-ONEHOT-11-P.mat')\n",
    "n_X = N_data['n_data']\n",
    "n_Y = N_data['n_target']\n",
    "p_X = P_data['p_data']\n",
    "p_Y = P_data['p_target']\n",
    "\n",
    "#随机打乱正样本数据并返回\n",
    "N_p = p_X.shape[0]\n",
    "print(\"N_p \\t\",N_p)\n",
    "indx = list(range(N_p))\n",
    "random.shuffle(indx)\n",
    "p_x=p_X[indx]\n",
    "p_y=p_Y[indx]\n",
    "\n",
    "#随机打乱负样本数据并返回\n",
    "N_n = n_X.shape[0]\n",
    "print(\"N_n \\t\",N_n)\n",
    "indx = list(range(N_n))\n",
    "random.shuffle(indx)\n",
    "n_x=n_X[indx]\n",
    "n_y=n_Y[indx]\n",
    "\n",
    "# 得到验证集 1600个\n",
    "\n",
    "X_test = np.vstack((n_X[52770:53570],p_X[2978:3778]))\n",
    "Y_test = np.vstack((n_Y[52770:53570],p_Y[2978:3778]))\n",
    "#随机打乱测试集数据并返回\n",
    "N_test = X_test.shape[0]\n",
    "print(\"N_test \\t\",N_test)\n",
    "indx = list(range(N_test))\n",
    "random.shuffle(indx)\n",
    "X_test=X_test[indx]\n",
    "Y_test=Y_test[indx]\n",
    "X_test = X_test.reshape(len(X_test),-1)\n",
    "Y_test = Y_test.reshape(len(Y_test),-1)\n",
    "\n",
    "#处理训练集，正样本数量不变，在剩余52770个负样本中抽取3022个不放回，组成6000条数据为一组的训练集\n",
    "\n",
    "NN = len(n_X[0:52770])\n",
    "print(NN)\n",
    "\n",
    "#负样本批次大小\n",
    "N_size = 3022\n",
    "#计算一共有负样本多少个批次\n",
    "NN_batch = NN // N_size\n",
    "\n",
    "#print(NN_batch)\n",
    "a=0\n",
    "#得到17个数据集，正样本不变，负样本从'PDNA-224-ONEHOT-11-N.mat中抽出3822个不放回\n",
    "for i in range(NN_batch):\n",
    "               \n",
    "        if (i+2)*N_size > NN: #  53570/3022=17.46\n",
    "                X = np.vstack((n_X[i*N_size:NN],p_X[0:2978]))\n",
    "                Y = np.vstack((n_Y[i*N_size:NN],p_Y[0:2978]))\n",
    "        else:\n",
    "                X = np.vstack((n_X[i*N_size:(i+1)*N_size],p_X[0:2978]))\n",
    "                Y = np.vstack((n_Y[i*N_size:(i+1)*N_size],p_Y[0:2978]))\n",
    "                #print(i*N_size)              \n",
    "        #print(len(X),len(Y))\n",
    "        #print('')       \n",
    "        X = X.reshape(len(X),-1)\n",
    "        Y = Y.reshape(len(Y),-1) \n",
    "        #print(X)\n",
    "        #loo = LeaveOneOut()\n",
    "        kf = KFold(n_splits=5)\n",
    "        kf.get_n_splits(X)\n",
    "        for train_index, test_index in kf.split(X):           \n",
    "            #得到85个数据集，保存在动态变量中,例如 X_train_1  \n",
    "            names['X_train_%s' % a],names['X_test_%s' % a]=X[train_index], X[test_index]\n",
    "            names['Y_train_%s' % a],names['Y_test_%s' % a]=Y[train_index], Y[test_index]\n",
    "            a+=1\n",
    "\n",
    "\n",
    "\n"
   ]
  },
  {
   "cell_type": "markdown",
   "metadata": {},
   "source": [
    "## 计算预测率、混淆矩阵"
   ]
  },
  {
   "cell_type": "code",
   "execution_count": 4,
   "metadata": {},
   "outputs": [],
   "source": [
    "import matplotlib.pyplot as plt\n",
    "# 计算预测的准确率\n",
    "def evalution(y_logists, y_preds):\n",
    "    correct_prediction = tf.equal(tf.argmax(y_preds, 1),\n",
    "                                      tf.argmax(y_logists, 1))\n",
    "    accuracy = tf.reduce_mean(tf.cast(correct_prediction, \"float\"))\n",
    "    with tf.Session() as sess:\n",
    "        acc = sess.run(accuracy)\n",
    "    \n",
    "    return acc\n",
    "\n",
    "# 绘制混淆矩阵的函数\n",
    "# 参数1  cm 混淆矩阵中显示的数值 二维数组\n",
    "# 参数2 cmap 混淆矩阵中的颜色\n",
    "# 参数3 title 标题\n",
    "def plot_confusion_matrix(cm, classes, title='混淆矩阵', cmap=plt.cm.Greens):\n",
    "    # imshow() 表示绘制并显示二维图 有18个参数\n",
    "    # 参数1 X 混淆矩阵中显示的数值 二维数组\n",
    "    # 参数2 cmap 颜色 plt.cm.Blues表示蓝色 plt.cm.Reds表示红色 plt.cm.Greens表示绿色\n",
    "    # 参数5 interpolation 插值法 一般有如下值\n",
    "    #     nearest 最近邻插值法\n",
    "    #     bilinear 双线性插值法\n",
    "    plt.rcParams['font.sans-serif'] = ['SimHei']\n",
    "    plt.rcParams['axes.unicode_minus'] = False\n",
    "    plt.imshow(cm, cmap=cmap, interpolation=\"nearest\")\n",
    "    plt.title(title)  # 标题\n",
    "    plt.colorbar()  # 显示颜色的进度条\n",
    "    tick_marks = np.arange(2)  # [0 1]\n",
    "    plt.xticks(tick_marks, classes)  # 对x轴上分类进行标记\n",
    "    plt.yticks(tick_marks, classes)  # 对y轴上分类进行标记\n",
    "\n",
    "    thresh = np.mean(cm)\n",
    "    for i in range(2):\n",
    "        for j in range(2):\n",
    "            plt.text(i, j, cm[j][i],\n",
    "                     horizontalalignment='center',\n",
    "                     color='white' if cm[i][j] >= thresh else 'black')\n",
    "\n",
    "    plt.xlabel('预测值')\n",
    "    plt.ylabel('真实值')\n",
    "    \n",
    "\n"
   ]
  },
  {
   "cell_type": "markdown",
   "metadata": {},
   "source": [
    "## 卷积神经网络 "
   ]
  },
  {
   "cell_type": "code",
   "execution_count": 35,
   "metadata": {},
   "outputs": [],
   "source": [
    "#初始化权值\n",
    "def weight_variable(shape):\n",
    "    initial = tf.truncated_normal(shape,stddev=0.1) #生成一个截断的正态分布\n",
    "    return tf.Variable(initial)\n",
    "\n",
    "#初始化偏置\n",
    "def bias_variable(shape):\n",
    "    #initial = tf.truncated_normal(shape,stddev=0.1)\n",
    "    initial = tf.constant(0.1,shape=shape)\n",
    "    return tf.Variable(initial)\n",
    "\n",
    "#卷积层\n",
    "def conv2d(x,W):\n",
    "    #input tensor of shape [batch, in_height, in_width, in_channels]\n",
    "    #filter / kernel tensor of shape [filter_height, filter_width, in_channels, out_channels]\n",
    "    #strides[0]=strides[3]=1. strides[1]代表ｘ方向的步长，strids[2]代表ｙ方向的步长\n",
    "    #padding: A string from \"SAME\", \"VALID\"\n",
    "    return tf.nn.conv2d(x,W,strides=[1,1,1,1], padding='SAME')\n",
    "\n",
    "#池化层\n",
    "def max_pool_2x2(x):\n",
    "    #ksize [1,x,y,1]\n",
    "    return tf.nn.max_pool(x,ksize=[1,2,2,1], strides=[1,2,2,1], padding='SAME')\n",
    "\n",
    "def cnn():\n",
    " \n",
    "    #定义两个placeholder\n",
    "    x = tf.placeholder(tf.float32, [None, 460])#28*28\n",
    "    y = tf.placeholder(tf.float32, [None, 2])\n",
    "\n",
    "    #改变x的格式转为４Ｄ的向量【batch, in_height, in_width, in_channels]\n",
    "    x_image = tf.reshape(x,[-1, 23, 20 ,1])\n",
    "\n",
    "    #初始化第一个卷积层的权值和偏量\n",
    "    W_conv1 = weight_variable([7,7,1,32])#5*5的采样窗口，３２个卷积核从１个平面抽取特征\n",
    "    b_conv1 = bias_variable([32])#每一个卷积核一个偏置值\n",
    "\n",
    "    #把x_image和权值向量进行卷积，再加上偏置值，然后应用于relu激活函数\n",
    "    h_conv1 = tf.nn.relu(conv2d(x_image, W_conv1) + b_conv1)\n",
    "    h_pool1 = max_pool_2x2(h_conv1)#进行max-pooling\n",
    "\n",
    "#     #初始化第二个卷积层的权值和偏置\n",
    "#     W_conv2 = weight_variable([5,5,32,64]) #5*5的采样窗口，64个卷积核从32个平面抽取特征\n",
    "#     b_conv2 = bias_variable([64]) #每一个卷积核一个偏置值\n",
    "\n",
    "#     #把H_pool1和权值向量进行卷积，再加上偏置值，然后应用于relu激活函数\n",
    "#     h_conv2 = tf.nn.relu(conv2d(h_pool1, W_conv2) + b_conv2)\n",
    "#     h_pool2 = max_pool_2x2(h_conv2)\n",
    "\n",
    "#     #23*20的图片第一次卷积后还是23*20,第一次池化后变为12*10\n",
    "#     #第二次卷积后为12*10,第二次池化后变为6*5\n",
    "#     #进过上面操作后得到64张6*5的平面\n",
    "\n",
    "    #初始化第一全链接层的权值\n",
    "    W_fc1 = weight_variable([12*10*32,512]) #上一层有7*7*64个神经元,全连接层有1024个神经元\n",
    "    b_fc1 = bias_variable([512])\n",
    "\n",
    "    #把池化层2的输出扁平化为1维\n",
    "    \n",
    "    h_pool2_flat = tf.reshape(h_pool1,[-1,12*10*32])\n",
    "    #求第一个全连接层的输出\n",
    "    h_fc1 = tf.nn.relu(tf.matmul(h_pool2_flat, W_fc1) + b_fc1)\n",
    "\n",
    "    #keep_prob用了表示神经元的输出概率\n",
    "    keep_prob = tf.placeholder(tf.float32)\n",
    "    h_fc1_drop = tf.nn.dropout(h_fc1,keep_prob)\n",
    "\n",
    "    #初始化第二个全连接层\n",
    "    W_fc2 = weight_variable([512,2])\n",
    "    b_fc2 = bias_variable([2])\n",
    "\n",
    "    #计算输出\n",
    "    pred = tf.nn.softmax(tf.matmul(h_fc1_drop,W_fc2) + b_fc2)\n",
    "\n",
    "    #交叉熵代价函数\n",
    "    cross_entropy = tf.reduce_mean(tf.nn.softmax_cross_entropy_with_logits(labels=y,logits=pred))\n",
    "    \n",
    "    #使用AdamOptimizer进行优化\n",
    "    train_step = tf.train.AdamOptimizer(1e-3).minimize(cross_entropy)\n",
    "\n",
    "    #结果存放在一个布尔列表中\n",
    "    correct_prediction = tf.equal(tf.argmax(pred,1),tf.argmax(y,1))\n",
    "    #求准确率\n",
    "    accuracy = tf.reduce_mean(tf.cast(correct_prediction,tf.float32))\n",
    "\n",
    "    with tf.Session() as sess:\n",
    "        sess.run(tf.global_variables_initializer())\n",
    "        for epoch in range(10):\n",
    "            for i in range(84):\n",
    "                \n",
    "                \n",
    "                batch_xs = names['X_train_%s' % i]\n",
    "                batch_ys = names['Y_train_%s' % i]\n",
    "                #batch_xs,batch_ys = mnist.train.next_batch(batch_size)\n",
    "                sess.run(train_step,feed_dict={x:batch_xs,y:batch_ys,keep_prob:0.5})\n",
    "                \n",
    "            acc = sess.run(accuracy, feed_dict={x:names['X_test_%s' % i], y:names['Y_test_%s' % i], keep_prob:1.0})\n",
    "            cross_entropy1 = sess.run(cross_entropy, feed_dict={x:names['X_test_%s' % i], y:names['Y_test_%s' % i], keep_prob:1.0})\n",
    "            print('迭代次数 '+str(epoch) + \"，Testing Accuracy=\" + str(acc)+',cross_entropy1= '+str(cross_entropy1))\n",
    "\n",
    "            \n",
    "            \n",
    "        y_pred,acc1 = sess.run([pred,accuracy], feed_dict={x:X_test, y:Y_test, keep_prob:1.0})\n",
    "        print(acc1)\n",
    "        \n",
    "    return y_pred"
   ]
  },
  {
   "cell_type": "markdown",
   "metadata": {},
   "source": [
    "## 训练"
   ]
  },
  {
   "cell_type": "code",
   "execution_count": 36,
   "metadata": {
    "scrolled": true
   },
   "outputs": [
    {
     "name": "stdout",
     "output_type": "stream",
     "text": [
      "迭代次数 0，Testing Accuracy=1.0,cross_entropy1= 0.31326163\n",
      "迭代次数 1，Testing Accuracy=1.0,cross_entropy1= 0.31326163\n",
      "迭代次数 2，Testing Accuracy=1.0,cross_entropy1= 0.31326163\n",
      "迭代次数 3，Testing Accuracy=1.0,cross_entropy1= 0.31326163\n"
     ]
    },
    {
     "ename": "KeyboardInterrupt",
     "evalue": "",
     "output_type": "error",
     "traceback": [
      "\u001b[1;31m---------------------------------------------------------------------------\u001b[0m",
      "\u001b[1;31mKeyboardInterrupt\u001b[0m                         Traceback (most recent call last)",
      "\u001b[1;32m<ipython-input-36-bdf3e820dcd9>\u001b[0m in \u001b[0;36m<module>\u001b[1;34m()\u001b[0m\n\u001b[1;32m----> 1\u001b[1;33m \u001b[0my_pred\u001b[0m\u001b[1;33m=\u001b[0m\u001b[0mcnn\u001b[0m\u001b[1;33m(\u001b[0m\u001b[1;33m)\u001b[0m\u001b[1;33m\u001b[0m\u001b[0m\n\u001b[0m",
      "\u001b[1;32m<ipython-input-35-e97a54ca61af>\u001b[0m in \u001b[0;36mcnn\u001b[1;34m()\u001b[0m\n\u001b[0;32m     93\u001b[0m                 \u001b[0mbatch_ys\u001b[0m \u001b[1;33m=\u001b[0m \u001b[0mnames\u001b[0m\u001b[1;33m[\u001b[0m\u001b[1;34m'Y_train_%s'\u001b[0m \u001b[1;33m%\u001b[0m \u001b[0mi\u001b[0m\u001b[1;33m]\u001b[0m\u001b[1;33m\u001b[0m\u001b[0m\n\u001b[0;32m     94\u001b[0m                 \u001b[1;31m#batch_xs,batch_ys = mnist.train.next_batch(batch_size)\u001b[0m\u001b[1;33m\u001b[0m\u001b[1;33m\u001b[0m\u001b[0m\n\u001b[1;32m---> 95\u001b[1;33m                 \u001b[0msess\u001b[0m\u001b[1;33m.\u001b[0m\u001b[0mrun\u001b[0m\u001b[1;33m(\u001b[0m\u001b[0mtrain_step\u001b[0m\u001b[1;33m,\u001b[0m\u001b[0mfeed_dict\u001b[0m\u001b[1;33m=\u001b[0m\u001b[1;33m{\u001b[0m\u001b[0mx\u001b[0m\u001b[1;33m:\u001b[0m\u001b[0mbatch_xs\u001b[0m\u001b[1;33m,\u001b[0m\u001b[0my\u001b[0m\u001b[1;33m:\u001b[0m\u001b[0mbatch_ys\u001b[0m\u001b[1;33m,\u001b[0m\u001b[0mkeep_prob\u001b[0m\u001b[1;33m:\u001b[0m\u001b[1;36m0.5\u001b[0m\u001b[1;33m}\u001b[0m\u001b[1;33m)\u001b[0m\u001b[1;33m\u001b[0m\u001b[0m\n\u001b[0m\u001b[0;32m     96\u001b[0m \u001b[1;33m\u001b[0m\u001b[0m\n\u001b[0;32m     97\u001b[0m             \u001b[0macc\u001b[0m \u001b[1;33m=\u001b[0m \u001b[0msess\u001b[0m\u001b[1;33m.\u001b[0m\u001b[0mrun\u001b[0m\u001b[1;33m(\u001b[0m\u001b[0maccuracy\u001b[0m\u001b[1;33m,\u001b[0m \u001b[0mfeed_dict\u001b[0m\u001b[1;33m=\u001b[0m\u001b[1;33m{\u001b[0m\u001b[0mx\u001b[0m\u001b[1;33m:\u001b[0m\u001b[0mnames\u001b[0m\u001b[1;33m[\u001b[0m\u001b[1;34m'X_test_%s'\u001b[0m \u001b[1;33m%\u001b[0m \u001b[0mi\u001b[0m\u001b[1;33m]\u001b[0m\u001b[1;33m,\u001b[0m \u001b[0my\u001b[0m\u001b[1;33m:\u001b[0m\u001b[0mnames\u001b[0m\u001b[1;33m[\u001b[0m\u001b[1;34m'Y_test_%s'\u001b[0m \u001b[1;33m%\u001b[0m \u001b[0mi\u001b[0m\u001b[1;33m]\u001b[0m\u001b[1;33m,\u001b[0m \u001b[0mkeep_prob\u001b[0m\u001b[1;33m:\u001b[0m\u001b[1;36m1.0\u001b[0m\u001b[1;33m}\u001b[0m\u001b[1;33m)\u001b[0m\u001b[1;33m\u001b[0m\u001b[0m\n",
      "\u001b[1;32mD:\\Program Files\\Anaconda3\\envs\\tensorflow\\lib\\site-packages\\tensorflow\\python\\client\\session.py\u001b[0m in \u001b[0;36mrun\u001b[1;34m(self, fetches, feed_dict, options, run_metadata)\u001b[0m\n\u001b[0;32m    898\u001b[0m     \u001b[1;32mtry\u001b[0m\u001b[1;33m:\u001b[0m\u001b[1;33m\u001b[0m\u001b[0m\n\u001b[0;32m    899\u001b[0m       result = self._run(None, fetches, feed_dict, options_ptr,\n\u001b[1;32m--> 900\u001b[1;33m                          run_metadata_ptr)\n\u001b[0m\u001b[0;32m    901\u001b[0m       \u001b[1;32mif\u001b[0m \u001b[0mrun_metadata\u001b[0m\u001b[1;33m:\u001b[0m\u001b[1;33m\u001b[0m\u001b[0m\n\u001b[0;32m    902\u001b[0m         \u001b[0mproto_data\u001b[0m \u001b[1;33m=\u001b[0m \u001b[0mtf_session\u001b[0m\u001b[1;33m.\u001b[0m\u001b[0mTF_GetBuffer\u001b[0m\u001b[1;33m(\u001b[0m\u001b[0mrun_metadata_ptr\u001b[0m\u001b[1;33m)\u001b[0m\u001b[1;33m\u001b[0m\u001b[0m\n",
      "\u001b[1;32mD:\\Program Files\\Anaconda3\\envs\\tensorflow\\lib\\site-packages\\tensorflow\\python\\client\\session.py\u001b[0m in \u001b[0;36m_run\u001b[1;34m(self, handle, fetches, feed_dict, options, run_metadata)\u001b[0m\n\u001b[0;32m   1133\u001b[0m     \u001b[1;32mif\u001b[0m \u001b[0mfinal_fetches\u001b[0m \u001b[1;32mor\u001b[0m \u001b[0mfinal_targets\u001b[0m \u001b[1;32mor\u001b[0m \u001b[1;33m(\u001b[0m\u001b[0mhandle\u001b[0m \u001b[1;32mand\u001b[0m \u001b[0mfeed_dict_tensor\u001b[0m\u001b[1;33m)\u001b[0m\u001b[1;33m:\u001b[0m\u001b[1;33m\u001b[0m\u001b[0m\n\u001b[0;32m   1134\u001b[0m       results = self._do_run(handle, final_targets, final_fetches,\n\u001b[1;32m-> 1135\u001b[1;33m                              feed_dict_tensor, options, run_metadata)\n\u001b[0m\u001b[0;32m   1136\u001b[0m     \u001b[1;32melse\u001b[0m\u001b[1;33m:\u001b[0m\u001b[1;33m\u001b[0m\u001b[0m\n\u001b[0;32m   1137\u001b[0m       \u001b[0mresults\u001b[0m \u001b[1;33m=\u001b[0m \u001b[1;33m[\u001b[0m\u001b[1;33m]\u001b[0m\u001b[1;33m\u001b[0m\u001b[0m\n",
      "\u001b[1;32mD:\\Program Files\\Anaconda3\\envs\\tensorflow\\lib\\site-packages\\tensorflow\\python\\client\\session.py\u001b[0m in \u001b[0;36m_do_run\u001b[1;34m(self, handle, target_list, fetch_list, feed_dict, options, run_metadata)\u001b[0m\n\u001b[0;32m   1314\u001b[0m     \u001b[1;32mif\u001b[0m \u001b[0mhandle\u001b[0m \u001b[1;32mis\u001b[0m \u001b[1;32mNone\u001b[0m\u001b[1;33m:\u001b[0m\u001b[1;33m\u001b[0m\u001b[0m\n\u001b[0;32m   1315\u001b[0m       return self._do_call(_run_fn, feeds, fetches, targets, options,\n\u001b[1;32m-> 1316\u001b[1;33m                            run_metadata)\n\u001b[0m\u001b[0;32m   1317\u001b[0m     \u001b[1;32melse\u001b[0m\u001b[1;33m:\u001b[0m\u001b[1;33m\u001b[0m\u001b[0m\n\u001b[0;32m   1318\u001b[0m       \u001b[1;32mreturn\u001b[0m \u001b[0mself\u001b[0m\u001b[1;33m.\u001b[0m\u001b[0m_do_call\u001b[0m\u001b[1;33m(\u001b[0m\u001b[0m_prun_fn\u001b[0m\u001b[1;33m,\u001b[0m \u001b[0mhandle\u001b[0m\u001b[1;33m,\u001b[0m \u001b[0mfeeds\u001b[0m\u001b[1;33m,\u001b[0m \u001b[0mfetches\u001b[0m\u001b[1;33m)\u001b[0m\u001b[1;33m\u001b[0m\u001b[0m\n",
      "\u001b[1;32mD:\\Program Files\\Anaconda3\\envs\\tensorflow\\lib\\site-packages\\tensorflow\\python\\client\\session.py\u001b[0m in \u001b[0;36m_do_call\u001b[1;34m(self, fn, *args)\u001b[0m\n\u001b[0;32m   1320\u001b[0m   \u001b[1;32mdef\u001b[0m \u001b[0m_do_call\u001b[0m\u001b[1;33m(\u001b[0m\u001b[0mself\u001b[0m\u001b[1;33m,\u001b[0m \u001b[0mfn\u001b[0m\u001b[1;33m,\u001b[0m \u001b[1;33m*\u001b[0m\u001b[0margs\u001b[0m\u001b[1;33m)\u001b[0m\u001b[1;33m:\u001b[0m\u001b[1;33m\u001b[0m\u001b[0m\n\u001b[0;32m   1321\u001b[0m     \u001b[1;32mtry\u001b[0m\u001b[1;33m:\u001b[0m\u001b[1;33m\u001b[0m\u001b[0m\n\u001b[1;32m-> 1322\u001b[1;33m       \u001b[1;32mreturn\u001b[0m \u001b[0mfn\u001b[0m\u001b[1;33m(\u001b[0m\u001b[1;33m*\u001b[0m\u001b[0margs\u001b[0m\u001b[1;33m)\u001b[0m\u001b[1;33m\u001b[0m\u001b[0m\n\u001b[0m\u001b[0;32m   1323\u001b[0m     \u001b[1;32mexcept\u001b[0m \u001b[0merrors\u001b[0m\u001b[1;33m.\u001b[0m\u001b[0mOpError\u001b[0m \u001b[1;32mas\u001b[0m \u001b[0me\u001b[0m\u001b[1;33m:\u001b[0m\u001b[1;33m\u001b[0m\u001b[0m\n\u001b[0;32m   1324\u001b[0m       \u001b[0mmessage\u001b[0m \u001b[1;33m=\u001b[0m \u001b[0mcompat\u001b[0m\u001b[1;33m.\u001b[0m\u001b[0mas_text\u001b[0m\u001b[1;33m(\u001b[0m\u001b[0me\u001b[0m\u001b[1;33m.\u001b[0m\u001b[0mmessage\u001b[0m\u001b[1;33m)\u001b[0m\u001b[1;33m\u001b[0m\u001b[0m\n",
      "\u001b[1;32mD:\\Program Files\\Anaconda3\\envs\\tensorflow\\lib\\site-packages\\tensorflow\\python\\client\\session.py\u001b[0m in \u001b[0;36m_run_fn\u001b[1;34m(feed_dict, fetch_list, target_list, options, run_metadata)\u001b[0m\n\u001b[0;32m   1305\u001b[0m       \u001b[0mself\u001b[0m\u001b[1;33m.\u001b[0m\u001b[0m_extend_graph\u001b[0m\u001b[1;33m(\u001b[0m\u001b[1;33m)\u001b[0m\u001b[1;33m\u001b[0m\u001b[0m\n\u001b[0;32m   1306\u001b[0m       return self._call_tf_sessionrun(\n\u001b[1;32m-> 1307\u001b[1;33m           options, feed_dict, fetch_list, target_list, run_metadata)\n\u001b[0m\u001b[0;32m   1308\u001b[0m \u001b[1;33m\u001b[0m\u001b[0m\n\u001b[0;32m   1309\u001b[0m     \u001b[1;32mdef\u001b[0m \u001b[0m_prun_fn\u001b[0m\u001b[1;33m(\u001b[0m\u001b[0mhandle\u001b[0m\u001b[1;33m,\u001b[0m \u001b[0mfeed_dict\u001b[0m\u001b[1;33m,\u001b[0m \u001b[0mfetch_list\u001b[0m\u001b[1;33m)\u001b[0m\u001b[1;33m:\u001b[0m\u001b[1;33m\u001b[0m\u001b[0m\n",
      "\u001b[1;32mD:\\Program Files\\Anaconda3\\envs\\tensorflow\\lib\\site-packages\\tensorflow\\python\\client\\session.py\u001b[0m in \u001b[0;36m_call_tf_sessionrun\u001b[1;34m(self, options, feed_dict, fetch_list, target_list, run_metadata)\u001b[0m\n\u001b[0;32m   1407\u001b[0m       return tf_session.TF_SessionRun_wrapper(\n\u001b[0;32m   1408\u001b[0m           \u001b[0mself\u001b[0m\u001b[1;33m.\u001b[0m\u001b[0m_session\u001b[0m\u001b[1;33m,\u001b[0m \u001b[0moptions\u001b[0m\u001b[1;33m,\u001b[0m \u001b[0mfeed_dict\u001b[0m\u001b[1;33m,\u001b[0m \u001b[0mfetch_list\u001b[0m\u001b[1;33m,\u001b[0m \u001b[0mtarget_list\u001b[0m\u001b[1;33m,\u001b[0m\u001b[1;33m\u001b[0m\u001b[0m\n\u001b[1;32m-> 1409\u001b[1;33m           run_metadata)\n\u001b[0m\u001b[0;32m   1410\u001b[0m     \u001b[1;32melse\u001b[0m\u001b[1;33m:\u001b[0m\u001b[1;33m\u001b[0m\u001b[0m\n\u001b[0;32m   1411\u001b[0m       \u001b[1;32mwith\u001b[0m \u001b[0merrors\u001b[0m\u001b[1;33m.\u001b[0m\u001b[0mraise_exception_on_not_ok_status\u001b[0m\u001b[1;33m(\u001b[0m\u001b[1;33m)\u001b[0m \u001b[1;32mas\u001b[0m \u001b[0mstatus\u001b[0m\u001b[1;33m:\u001b[0m\u001b[1;33m\u001b[0m\u001b[0m\n",
      "\u001b[1;31mKeyboardInterrupt\u001b[0m: "
     ]
    }
   ],
   "source": [
    "y_pred=cnn()"
   ]
  },
  {
   "cell_type": "markdown",
   "metadata": {},
   "source": [
    "## 画出混淆矩阵"
   ]
  },
  {
   "cell_type": "code",
   "execution_count": 16,
   "metadata": {},
   "outputs": [
    {
     "name": "stdout",
     "output_type": "stream",
     "text": [
      "[0 1 0 ... 0 1 1] [1 1 1 ... 1 1 1]\n",
      "[[  0 800]\n",
      " [  0 800]]\n",
      "recall:  0.0\n"
     ]
    },
    {
     "data": {
      "image/png": "[encoded data removed]",
      "text/plain": [
       "<Figure size 432x288 with 2 Axes>"
      ]
     },
     "metadata": {},
     "output_type": "display_data"
    }
   ],
   "source": [
    "#混淆矩阵\n",
    "with tf.Session() as sess:\n",
    "    init = tf.global_variables_initializer()\n",
    "    #print(y_logists)\n",
    "    \n",
    "    a=tf.argmax(Y_test,1)\n",
    "    b=tf.argmax(y_pred,1)\n",
    "    xx=sess.run(a)\n",
    "    yy=sess.run(b)\n",
    "    print(xx,yy)\n",
    "    #cnf_matrix = confusion_matrix(y_logists[:,0], y_preds[:,0])\n",
    "    cnf_matrix = confusion_matrix(xx, yy)\n",
    "    print(cnf_matrix)\n",
    "    recall = cnf_matrix[0][0] / (cnf_matrix[0][0] + cnf_matrix[0][1])\n",
    "    print('recall: ', recall)\n",
    "    plot_confusion_matrix(cnf_matrix, [1, 0], cmap=plt.cm.Reds)\n"
   ]
  },
  {
   "cell_type": "code",
   "execution_count": null,
   "metadata": {},
   "outputs": [],
   "source": []
  }
 ],
 "metadata": {
  "kernelspec": {
   "display_name": "Python 3",
   "language": "python",
   "name": "python3"
  },
  "language_info": {
   "codemirror_mode": {
    "name": "ipython",
    "version": 3
   },
   "file_extension": ".py",
   "mimetype": "text/x-python",
   "name": "python",
   "nbconvert_exporter": "python",
   "pygments_lexer": "ipython3",
   "version": "3.6.5"
  }
 },
 "nbformat": 4,
 "nbformat_minor": 2
}
