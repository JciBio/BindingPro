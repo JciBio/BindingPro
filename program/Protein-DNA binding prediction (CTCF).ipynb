{
 "cells": [
  {
   "cell_type": "markdown",
   "metadata": {
    "colab_type": "text",
    "id": "4embtkV0pNxM"
   },
   "source": [
    "Protein-DNA binding prediction (CTCF)\n",
    "=============\n",
    "\n",
    "Goal: implement DeepBing with TensorFlow\n",
    "------------\n"
   ]
  },
  {
   "cell_type": "markdown",
   "metadata": {
    "colab_type": "text",
    "id": "5rhgjmROXu2O"
   },
   "source": [
    "***\n",
    "## DeepBind:\n",
    "\n",
    "> <img src=\"http://www.nature.com/nbt/journal/v33/n8/images/nbt.3300-F2.jpg\" width=\"80%\">\n",
    "> Source: http://www.nature.com/nbt/journal/v33/n8/images/nbt.3300-F2.jpg\n"
   ]
  },
  {
   "cell_type": "code",
   "execution_count": 1,
   "metadata": {
    "cellView": "both",
    "colab": {
     "autoexec": {
      "startup": false,
      "wait_interval": 0
     }
    },
    "colab_type": "code",
    "collapsed": true,
    "id": "tm2CQN_Cpwj0"
   },
   "outputs": [],
   "source": [
    "# These are all the modules we'll be using later. Make sure you can import them\n",
    "# before proceeding further.\n",
    "from __future__ import print_function\n",
    "import numpy as np\n",
    "import tensorflow as tf\n",
    "from six.moves import cPickle as pickle\n",
    "from six.moves import range\n",
    "import matplotlib.pyplot as plt\n",
    "import matplotlib.patches as mpatches"
   ]
  },
  {
   "cell_type": "code",
   "execution_count": 2,
   "metadata": {
    "cellView": "both",
    "colab": {
     "autoexec": {
      "startup": false,
      "wait_interval": 0
     },
     "output_extras": [
      {
       "item_id": 1
      }
     ]
    },
    "colab_type": "code",
    "executionInfo": {
     "elapsed": 11948,
     "status": "ok",
     "timestamp": 1446658914837,
     "user": {
      "color": "",
      "displayName": "",
      "isAnonymous": false,
      "isMe": true,
      "permissionId": "",
      "photoUrl": "",
      "sessionId": "0",
      "userId": ""
     },
     "user_tz": 480
    },
    "id": "y3-cj1bpmuxc",
    "outputId": "016b1a51-0290-4b08-efdb-8c95ffc3cd01"
   },
   "outputs": [
    {
     "name": "stdout",
     "output_type": "stream",
     "text": [
      "\n",
      "*Loaded train.pickle:  (77531, 121, 4) (77531, 2)\n",
      "\n",
      "*Loaded test.pickle:  (19383, 121, 4) (19383, 2) \n",
      " [[ 0.25  0.25  0.25  0.25]\n",
      " [ 0.25  0.25  0.25  0.25]\n",
      " [ 0.25  0.25  0.25  0.25]\n",
      " [ 0.25  0.25  0.25  0.25]\n",
      " [ 0.25  0.25  0.25  0.25]\n",
      " [ 0.25  0.25  0.25  0.25]\n",
      " [ 0.25  0.25  0.25  0.25]\n",
      " [ 0.25  0.25  0.25  0.25]\n",
      " [ 0.25  0.25  0.25  0.25]\n",
      " [ 0.25  0.25  0.25  0.25]\n",
      " [ 0.    1.    0.    0.  ]\n",
      " [ 1.    0.    0.    0.  ]\n",
      " [ 0.    0.    1.    0.  ]\n",
      " [ 0.    0.    0.    1.  ]\n",
      " [ 0.    0.    0.    1.  ]\n",
      " [ 0.    0.    1.    0.  ]\n",
      " [ 0.    0.    1.    0.  ]\n",
      " [ 0.    1.    0.    0.  ]\n",
      " [ 0.    1.    0.    0.  ]\n",
      " [ 0.    0.    0.    1.  ]\n",
      " [ 0.    1.    0.    0.  ]\n",
      " [ 1.    0.    0.    0.  ]\n",
      " [ 0.    0.    0.    1.  ]\n",
      " [ 0.    0.    0.    1.  ]\n",
      " [ 0.    0.    1.    0.  ]\n",
      " [ 0.    0.    0.    1.  ]\n",
      " [ 0.    0.    1.    0.  ]\n",
      " [ 1.    0.    0.    0.  ]\n",
      " [ 0.    0.    1.    0.  ]\n",
      " [ 1.    0.    0.    0.  ]\n",
      " [ 0.    0.    0.    1.  ]\n",
      " [ 0.    1.    0.    0.  ]\n",
      " [ 0.    0.    1.    0.  ]\n",
      " [ 0.    1.    0.    0.  ]\n",
      " [ 0.    1.    0.    0.  ]\n",
      " [ 0.    0.    0.    1.  ]\n",
      " [ 0.    1.    0.    0.  ]\n",
      " [ 0.    1.    0.    0.  ]\n",
      " [ 1.    0.    0.    0.  ]\n",
      " [ 0.    0.    1.    0.  ]\n",
      " [ 0.    1.    0.    0.  ]\n",
      " [ 0.    0.    0.    1.  ]\n",
      " [ 0.    0.    1.    0.  ]\n",
      " [ 0.    0.    1.    0.  ]\n",
      " [ 0.    1.    0.    0.  ]\n",
      " [ 1.    0.    0.    0.  ]\n",
      " [ 0.    0.    1.    0.  ]\n",
      " [ 1.    0.    0.    0.  ]\n",
      " [ 0.    1.    0.    0.  ]\n",
      " [ 0.    1.    0.    0.  ]\n",
      " [ 0.    1.    0.    0.  ]\n",
      " [ 1.    0.    0.    0.  ]\n",
      " [ 0.    0.    1.    0.  ]\n",
      " [ 1.    0.    0.    0.  ]\n",
      " [ 0.    0.    1.    0.  ]\n",
      " [ 1.    0.    0.    0.  ]\n",
      " [ 1.    0.    0.    0.  ]\n",
      " [ 0.    0.    1.    0.  ]\n",
      " [ 0.    0.    0.    1.  ]\n",
      " [ 0.    0.    1.    0.  ]\n",
      " [ 0.    1.    0.    0.  ]\n",
      " [ 1.    0.    0.    0.  ]\n",
      " [ 0.    0.    1.    0.  ]\n",
      " [ 1.    0.    0.    0.  ]\n",
      " [ 1.    0.    0.    0.  ]\n",
      " [ 0.    0.    1.    0.  ]\n",
      " [ 0.    0.    1.    0.  ]\n",
      " [ 0.    0.    1.    0.  ]\n",
      " [ 0.    0.    1.    0.  ]\n",
      " [ 0.    1.    0.    0.  ]\n",
      " [ 0.    0.    0.    1.  ]\n",
      " [ 0.    1.    0.    0.  ]\n",
      " [ 1.    0.    0.    0.  ]\n",
      " [ 0.    0.    0.    1.  ]\n",
      " [ 0.    1.    0.    0.  ]\n",
      " [ 0.    1.    0.    0.  ]\n",
      " [ 1.    0.    0.    0.  ]\n",
      " [ 0.    0.    1.    0.  ]\n",
      " [ 0.    0.    1.    0.  ]\n",
      " [ 0.    1.    0.    0.  ]\n",
      " [ 0.    1.    0.    0.  ]\n",
      " [ 0.    0.    0.    1.  ]\n",
      " [ 0.    0.    1.    0.  ]\n",
      " [ 0.    0.    1.    0.  ]\n",
      " [ 0.    0.    1.    0.  ]\n",
      " [ 0.    0.    1.    0.  ]\n",
      " [ 0.    0.    0.    1.  ]\n",
      " [ 0.    0.    0.    1.  ]\n",
      " [ 0.    0.    0.    1.  ]\n",
      " [ 0.    0.    1.    0.  ]\n",
      " [ 0.    1.    0.    0.  ]\n",
      " [ 1.    0.    0.    0.  ]\n",
      " [ 1.    0.    0.    0.  ]\n",
      " [ 1.    0.    0.    0.  ]\n",
      " [ 0.    0.    1.    0.  ]\n",
      " [ 0.    0.    1.    0.  ]\n",
      " [ 0.    0.    1.    0.  ]\n",
      " [ 1.    0.    0.    0.  ]\n",
      " [ 1.    0.    0.    0.  ]\n",
      " [ 0.    1.    0.    0.  ]\n",
      " [ 1.    0.    0.    0.  ]\n",
      " [ 0.    1.    0.    0.  ]\n",
      " [ 1.    0.    0.    0.  ]\n",
      " [ 0.    1.    0.    0.  ]\n",
      " [ 1.    0.    0.    0.  ]\n",
      " [ 1.    0.    0.    0.  ]\n",
      " [ 0.    0.    1.    0.  ]\n",
      " [ 0.    0.    0.    1.  ]\n",
      " [ 1.    0.    0.    0.  ]\n",
      " [ 0.    0.    1.    0.  ]\n",
      " [ 1.    0.    0.    0.  ]\n",
      " [ 0.25  0.25  0.25  0.25]\n",
      " [ 0.25  0.25  0.25  0.25]\n",
      " [ 0.25  0.25  0.25  0.25]\n",
      " [ 0.25  0.25  0.25  0.25]\n",
      " [ 0.25  0.25  0.25  0.25]\n",
      " [ 0.25  0.25  0.25  0.25]\n",
      " [ 0.25  0.25  0.25  0.25]\n",
      " [ 0.25  0.25  0.25  0.25]\n",
      " [ 0.25  0.25  0.25  0.25]\n",
      " [ 0.25  0.25  0.25  0.25]] [ 0.  0.]\n",
      "\n",
      "*Loaded ans.pickle:  (19383, 121, 4) (19383, 2) \n",
      " [[ 0.25  0.25  0.25  0.25]\n",
      " [ 0.25  0.25  0.25  0.25]\n",
      " [ 0.25  0.25  0.25  0.25]\n",
      " [ 0.25  0.25  0.25  0.25]\n",
      " [ 0.25  0.25  0.25  0.25]\n",
      " [ 0.25  0.25  0.25  0.25]\n",
      " [ 0.25  0.25  0.25  0.25]\n",
      " [ 0.25  0.25  0.25  0.25]\n",
      " [ 0.25  0.25  0.25  0.25]\n",
      " [ 0.25  0.25  0.25  0.25]\n",
      " [ 0.    1.    0.    0.  ]\n",
      " [ 1.    0.    0.    0.  ]\n",
      " [ 0.    0.    1.    0.  ]\n",
      " [ 0.    0.    0.    1.  ]\n",
      " [ 0.    0.    0.    1.  ]\n",
      " [ 0.    0.    1.    0.  ]\n",
      " [ 0.    0.    1.    0.  ]\n",
      " [ 0.    1.    0.    0.  ]\n",
      " [ 0.    1.    0.    0.  ]\n",
      " [ 0.    0.    0.    1.  ]\n",
      " [ 0.    1.    0.    0.  ]\n",
      " [ 1.    0.    0.    0.  ]\n",
      " [ 0.    0.    0.    1.  ]\n",
      " [ 0.    0.    0.    1.  ]\n",
      " [ 0.    0.    1.    0.  ]\n",
      " [ 0.    0.    0.    1.  ]\n",
      " [ 0.    0.    1.    0.  ]\n",
      " [ 1.    0.    0.    0.  ]\n",
      " [ 0.    0.    1.    0.  ]\n",
      " [ 1.    0.    0.    0.  ]\n",
      " [ 0.    0.    0.    1.  ]\n",
      " [ 0.    1.    0.    0.  ]\n",
      " [ 0.    0.    1.    0.  ]\n",
      " [ 0.    1.    0.    0.  ]\n",
      " [ 0.    1.    0.    0.  ]\n",
      " [ 0.    0.    0.    1.  ]\n",
      " [ 0.    1.    0.    0.  ]\n",
      " [ 0.    1.    0.    0.  ]\n",
      " [ 1.    0.    0.    0.  ]\n",
      " [ 0.    0.    1.    0.  ]\n",
      " [ 0.    1.    0.    0.  ]\n",
      " [ 0.    0.    0.    1.  ]\n",
      " [ 0.    0.    1.    0.  ]\n",
      " [ 0.    0.    1.    0.  ]\n",
      " [ 0.    1.    0.    0.  ]\n",
      " [ 1.    0.    0.    0.  ]\n",
      " [ 0.    0.    1.    0.  ]\n",
      " [ 1.    0.    0.    0.  ]\n",
      " [ 0.    1.    0.    0.  ]\n",
      " [ 0.    1.    0.    0.  ]\n",
      " [ 0.    1.    0.    0.  ]\n",
      " [ 1.    0.    0.    0.  ]\n",
      " [ 0.    0.    1.    0.  ]\n",
      " [ 1.    0.    0.    0.  ]\n",
      " [ 0.    0.    1.    0.  ]\n",
      " [ 1.    0.    0.    0.  ]\n",
      " [ 1.    0.    0.    0.  ]\n",
      " [ 0.    0.    1.    0.  ]\n",
      " [ 0.    0.    0.    1.  ]\n",
      " [ 0.    0.    1.    0.  ]\n",
      " [ 0.    1.    0.    0.  ]\n",
      " [ 1.    0.    0.    0.  ]\n",
      " [ 0.    0.    1.    0.  ]\n",
      " [ 1.    0.    0.    0.  ]\n",
      " [ 1.    0.    0.    0.  ]\n",
      " [ 0.    0.    1.    0.  ]\n",
      " [ 0.    0.    1.    0.  ]\n",
      " [ 0.    0.    1.    0.  ]\n",
      " [ 0.    0.    1.    0.  ]\n",
      " [ 0.    1.    0.    0.  ]\n",
      " [ 0.    0.    0.    1.  ]\n",
      " [ 0.    1.    0.    0.  ]\n",
      " [ 1.    0.    0.    0.  ]\n",
      " [ 0.    0.    0.    1.  ]\n",
      " [ 0.    1.    0.    0.  ]\n",
      " [ 0.    1.    0.    0.  ]\n",
      " [ 1.    0.    0.    0.  ]\n",
      " [ 0.    0.    1.    0.  ]\n",
      " [ 0.    0.    1.    0.  ]\n",
      " [ 0.    1.    0.    0.  ]\n",
      " [ 0.    1.    0.    0.  ]\n",
      " [ 0.    0.    0.    1.  ]\n",
      " [ 0.    0.    1.    0.  ]\n",
      " [ 0.    0.    1.    0.  ]\n",
      " [ 0.    0.    1.    0.  ]\n",
      " [ 0.    0.    1.    0.  ]\n",
      " [ 0.    0.    0.    1.  ]\n",
      " [ 0.    0.    0.    1.  ]\n",
      " [ 0.    0.    0.    1.  ]\n",
      " [ 0.    0.    1.    0.  ]\n",
      " [ 0.    1.    0.    0.  ]\n",
      " [ 1.    0.    0.    0.  ]\n",
      " [ 1.    0.    0.    0.  ]\n",
      " [ 1.    0.    0.    0.  ]\n",
      " [ 0.    0.    1.    0.  ]\n",
      " [ 0.    0.    1.    0.  ]\n",
      " [ 0.    0.    1.    0.  ]\n",
      " [ 1.    0.    0.    0.  ]\n",
      " [ 1.    0.    0.    0.  ]\n",
      " [ 0.    1.    0.    0.  ]\n",
      " [ 1.    0.    0.    0.  ]\n",
      " [ 0.    1.    0.    0.  ]\n",
      " [ 1.    0.    0.    0.  ]\n",
      " [ 0.    1.    0.    0.  ]\n",
      " [ 1.    0.    0.    0.  ]\n",
      " [ 1.    0.    0.    0.  ]\n",
      " [ 0.    0.    1.    0.  ]\n",
      " [ 0.    0.    0.    1.  ]\n",
      " [ 1.    0.    0.    0.  ]\n",
      " [ 0.    0.    1.    0.  ]\n",
      " [ 1.    0.    0.    0.  ]\n",
      " [ 0.25  0.25  0.25  0.25]\n",
      " [ 0.25  0.25  0.25  0.25]\n",
      " [ 0.25  0.25  0.25  0.25]\n",
      " [ 0.25  0.25  0.25  0.25]\n",
      " [ 0.25  0.25  0.25  0.25]\n",
      " [ 0.25  0.25  0.25  0.25]\n",
      " [ 0.25  0.25  0.25  0.25]\n",
      " [ 0.25  0.25  0.25  0.25]\n",
      " [ 0.25  0.25  0.25  0.25]\n",
      " [ 0.25  0.25  0.25  0.25]] [ 0.  1.]\n",
      "\n",
      "*Training set:\t (62025, 121, 4) (62025, 2)\n",
      "*Validation set: (15506, 121, 4) (15506, 2)\n",
      "*Test set:\t (19383, 121, 4) (19383, 2)\n",
      "*Ans set:\t (19383, 121, 4) (19383, 2)\n"
     ]
    }
   ],
   "source": [
    "K_FOLD = [4,1] ## A 5 fold\n",
    "TRAIN_PICKLE = '../../../train.pickle'\n",
    "TEST_PICKLE  = '../../../test.pickle'\n",
    "ANS_PICKLE   = '../../../fish/ans.pickle'\n",
    "\n",
    "with open(TRAIN_PICKLE, 'rb') as f:\n",
    "    save = pickle.load(f)\n",
    "    seq  = save['seq']\n",
    "    labels = save['label']\n",
    "    length  = seq.shape[0]\n",
    "    del save\n",
    "    print('\\n*Loaded train.pickle: ',seq.shape, labels.shape)\n",
    "\n",
    "with open(TEST_PICKLE, 'rb') as f:\n",
    "    save = pickle.load(f)\n",
    "    test_seq = save['seq']\n",
    "    test_dummy_labels = save['label']\n",
    "    test_length = test_seq.shape[0]\n",
    "    del save\n",
    "    print('\\n*Loaded test.pickle: ',test_seq.shape,test_dummy_labels.shape,'\\n',test_seq[0],test_dummy_labels[0])\n",
    "    \n",
    "with open(ANS_PICKLE, 'rb') as f:\n",
    "    save = pickle.load(f)\n",
    "    ans_seq = save['seq']\n",
    "    ans_labels = save['label']\n",
    "    ans_length = ans_seq.shape[0]\n",
    "    del save\n",
    "    print('\\n*Loaded ans.pickle: ',ans_seq.shape,ans_labels.shape,'\\n',ans_seq[0],ans_labels[0])\n",
    "\n",
    "\n",
    "_ = int((length-length%(sum(K_FOLD)))/(sum(K_FOLD))) ## 15506\n",
    "r_train = range(0,4*_)\n",
    "r_valid = range(4*_+1,length)\n",
    "r_test  = range(0,length)\n",
    "\n",
    "train_dataset, train_labels = seq[15506:,], labels[15506:,]\n",
    "valid_dataset, valid_labels = seq[0:15506,], labels[0:15506,]  \n",
    "test_dataset,  test_labels  = test_seq[:] , test_dummy_labels[:]\n",
    "ans_dataset,   ans_labels   = ans_seq[:], ans_labels[:]\n",
    "\n",
    "print('\\n*Training set:\\t', train_dataset.shape,  train_labels.shape)\n",
    "print('*Validation set:', valid_dataset.shape,  valid_labels.shape)\n",
    "print('*Test set:\\t',       test_dataset.shape,   test_dummy_labels.shape)\n",
    "print('*Ans set:\\t',      ans_seq.shape,        ans_labels.shape)\n",
    "  "
   ]
  },
  {
   "cell_type": "code",
   "execution_count": 14,
   "metadata": {},
   "outputs": [
    {
     "name": "stdout",
     "output_type": "stream",
     "text": [
      "* ans.pickle:  (19383, 2)\n",
      "ans.pickle saved to ./ans_labels\n"
     ]
    }
   ],
   "source": [
    "## Export file        \n",
    "DIST = './ans_labels'\n",
    "print('* ans.pickle: ', ans_labels.shape)        \n",
    "with open('../../../fish/ans.pickle', 'w') as f:\n",
    "    for r in ans_labels:\n",
    "        f.write(str(r)+'\\n')        \n",
    "        f.close\n",
    "    print('ans.pickle saved to',DIST)    "
   ]
  },
  {
   "cell_type": "markdown",
   "metadata": {
    "colab_type": "text",
    "id": "L7aHrm6nGDMB"
   },
   "source": [
    "Reformat into a TensorFlow-friendly shape:\n",
    "- convolutions need the image data formatted as a cube (width by height by #channels)\n",
    "- labels as float 1-hot encodings."
   ]
  },
  {
   "cell_type": "code",
   "execution_count": 4,
   "metadata": {},
   "outputs": [
    {
     "name": "stdout",
     "output_type": "stream",
     "text": [
      "Training set (62025, 121, 4, 1) (62025, 2)\n",
      "Validation set (15506, 121, 4, 1) (15506, 2)\n",
      "Test set (19383, 121, 4, 1) (19383, 2)\n",
      "Ans set (19383, 121, 4, 1) (19383, 2)\n"
     ]
    }
   ],
   "source": [
    "import numpy as np\n",
    "\n",
    "num_channels = 1\n",
    "num_labels = 2\n",
    "\n",
    "def reformat(dataset, labels):\n",
    "    dataset = dataset.reshape((-1, 121, 4, num_channels)).astype(np.float32)\n",
    "#     labels = (np.arange(num_labels) == labels[:,None]).astype(np.float32)\n",
    "    return dataset, labels\n",
    "train_dataset, train_labels = reformat(train_dataset, train_labels)\n",
    "valid_dataset, valid_labels = reformat(valid_dataset, valid_labels)\n",
    "test_dataset, test_labels   = reformat(test_dataset, test_dummy_labels)\n",
    "ans_dataset, ans_labels     = reformat(ans_dataset, ans_labels)\n",
    "print('Training set', train_dataset.shape, train_labels.shape)\n",
    "print('Validation set', valid_dataset.shape, valid_labels.shape)\n",
    "print('Test set', test_dataset.shape, test_dummy_labels.shape)\n",
    "print('Ans set', ans_dataset.shape, ans_labels.shape)"
   ]
  },
  {
   "cell_type": "code",
   "execution_count": 5,
   "metadata": {
    "cellView": "both",
    "colab": {
     "autoexec": {
      "startup": false,
      "wait_interval": 0
     }
    },
    "colab_type": "code",
    "collapsed": true,
    "id": "AgQDIREv02p1"
   },
   "outputs": [],
   "source": [
    "def accuracy(predictions, labels):\n",
    "  return (100.0 * np.sum(np.argmax(predictions, 1) == np.argmax(labels, 1))\n",
    "          / predictions.shape[0])"
   ]
  },
  {
   "cell_type": "markdown",
   "metadata": {},
   "source": [
    "### DeepBind CNN Model\n",
    "> <img src=\"http://www.nature.com/nbt/journal/v33/n8/images/nbt.3300-SF1.jpg\" width=\"90%\">\n",
    ">... Shown is an example with __batch_size=5, motif_len=6, num_motifs=4, num_models=3__. Sequences are padded with ‘N’s so that the motif scan operation can find detections at both extremities. Yellow cells represent the reverse complement of the input located above; both strands are fed to the model, and the strand with the maximum score is used for the output prediction (the max strand stage). The output dimension of the pool stage, depicted as num_motifs (*), depends on whether “max” or “max and avg” pooling was used.\n",
    "> \n",
    "> Image source: http://www.nature.com/nbt/journal/v33/n8/fig_tab/nbt.3300_SF1.html\n"
   ]
  },
  {
   "cell_type": "markdown",
   "metadata": {},
   "source": [
    "## Model"
   ]
  },
  {
   "cell_type": "code",
   "execution_count": 6,
   "metadata": {
    "scrolled": true
   },
   "outputs": [
    {
     "name": "stdout",
     "output_type": "stream",
     "text": [
      "           [batch, height, width, channel]\n",
      "data:      [256, 121, 4, 1]\n",
      "conv:      [256, 121, 4, 16]\n",
      "relu:      [256, 121, 4, 16]\n",
      "pooling:   [256, 60, 2, 16]\n",
      "reshape:   [256, 1920]\n",
      "hidden:    [256, 32]\n",
      "output:    [256, 2] \n",
      "\n",
      "\n",
      "           [batch, height, width, channel]\n",
      "data:      [15506, 121, 4, 1]\n",
      "conv:      [15506, 121, 4, 16]\n",
      "relu:      [15506, 121, 4, 16]\n",
      "pooling:   [15506, 60, 2, 16]\n",
      "reshape:   [15506, 1920]\n",
      "hidden:    [15506, 32]\n",
      "output:    [15506, 2] \n",
      "\n",
      "\n",
      "           [batch, height, width, channel]\n",
      "data:      [19383, 121, 4, 1]\n",
      "conv:      [19383, 121, 4, 16]\n",
      "relu:      [19383, 121, 4, 16]\n",
      "pooling:   [19383, 60, 2, 16]\n",
      "reshape:   [19383, 1920]\n",
      "hidden:    [19383, 32]\n",
      "output:    [19383, 2] \n",
      "\n",
      "\n",
      "           [batch, height, width, channel]\n",
      "data:      [19383, 121, 4, 1]\n",
      "conv:      [19383, 121, 4, 16]\n",
      "relu:      [19383, 121, 4, 16]\n",
      "pooling:   [19383, 60, 2, 16]\n",
      "reshape:   [19383, 1920]\n",
      "hidden:    [19383, 32]\n",
      "output:    [19383, 2] \n",
      "\n",
      "\n"
     ]
    }
   ],
   "source": [
    "image_size   = [121,4]  ## 101bps, plus 10bps frenking on both end\n",
    "num_labels   = 2        ## bind or not (1 or 0)\n",
    "batch_size   = 256      ## TODO: try with double strand input!\n",
    "filter_size  = [11,4]   ## Motif detector length = 11 (about 1.5 times of expected motif length)\n",
    "depth        = 16       ## Number of motif detector (num_motif) = 16\n",
    "num_hidden   = 32       ## 32 ReLU units of no hidden layer at all\n",
    "\n",
    "graph = tf.Graph()\n",
    "\n",
    "with graph.as_default():\n",
    "\n",
    "    # Input data.\n",
    "    tf_train_dataset = tf.placeholder(tf.float32, shape=(batch_size, image_size[0], image_size[1], num_channels))\n",
    "    tf_train_labels = tf.placeholder(tf.float32, shape=(batch_size, num_labels))\n",
    "    tf_valid_dataset = tf.constant(valid_dataset)\n",
    "    tf_test_dataset = tf.constant(test_dataset)\n",
    "    tf_ans_dataset = tf.constant(ans_dataset)\n",
    "  \n",
    "    # conv filter, shape=(11,3)\n",
    "    filter_W = tf.Variable(tf.truncated_normal([11, 3, num_channels, depth], stddev=0.1)) ## difference ?\n",
    "    filter_b = tf.Variable(tf.zeros([depth]))\n",
    "\n",
    "    # NN layer, shape=()\n",
    "    hidden_W = tf.Variable(tf.truncated_normal([1920, 32], stddev=0.1))\n",
    "    hidden_b = tf.Variable(tf.constant(1.0, shape=[32]))\n",
    "    \n",
    "    # output layer, shape=()\n",
    "    output_W = tf.Variable(tf.truncated_normal([32, 2], stddev=0.1))\n",
    "    output_b = tf.Variable(tf.constant(1.0, shape=[2]))\n",
    " \n",
    "\n",
    "    ## Model.\n",
    "    def model(data):\n",
    "        print('           [batch, height, width, channel]') \n",
    "        print('data:     ', data.get_shape().as_list())\n",
    "        \n",
    "        # Convolution: (121,4,1) ---- 3x6 filter ---> (121,4,4)\n",
    "        conv = tf.nn.conv2d(data, filter_W, [1, 1, 1, 1], padding='SAME')\n",
    "        print('conv:     ', conv.get_shape().as_list())\n",
    "        \n",
    "        relu = tf.nn.relu(conv + filter_b)\n",
    "        print('relu:     ', relu.get_shape().as_list())\n",
    "\n",
    "        pool = tf.nn.max_pool(relu, ksize=[1,2,2,1], strides=[1,2,2,1], padding='VALID')\n",
    "        print('pooling:  ', pool.get_shape().as_list())\n",
    "        \n",
    "        shape = pool.get_shape().as_list()\n",
    "        reshape = tf.reshape(pool, [shape[0], shape[1] * shape[2] * shape[3]])\n",
    "        print('reshape:  ', reshape.get_shape().as_list())\n",
    "        \n",
    "        hidden = tf.nn.relu(tf.matmul(reshape, hidden_W) + hidden_b)\n",
    "        print('hidden:   ', hidden.get_shape().as_list())\n",
    "        \n",
    "        output = tf.nn.relu(tf.matmul(hidden, output_W) + output_b)\n",
    "        print('output:   ', output.get_shape().as_list(),'\\n\\n')\n",
    "        return output\n",
    "  \n",
    "    # Training computation.\n",
    "    logits = model(tf_train_dataset)\n",
    "    loss = tf.reduce_mean(tf.nn.softmax_cross_entropy_with_logits(logits, tf_train_labels))\n",
    "    \n",
    "    # Optimizer.\n",
    "    optimizer = tf.train.GradientDescentOptimizer(0.05).minimize(loss)\n",
    "  \n",
    "    # Predictions for the training, validation, and test data.\n",
    "    train_prediction = tf.nn.softmax(logits)\n",
    "    valid_prediction = tf.nn.softmax(model(tf_valid_dataset))\n",
    "    test_prediction  = tf.nn.softmax(model(tf_test_dataset))\n",
    "    ans_prediction   = tf.nn.softmax(model(tf_ans_dataset))"
   ]
  },
  {
   "cell_type": "markdown",
   "metadata": {},
   "source": [
    "## Session"
   ]
  },
  {
   "cell_type": "code",
   "execution_count": 15,
   "metadata": {},
   "outputs": [],
   "source": [
    "%matplotlib inline\n",
    "\n",
    "def run_session(num_steps = 1000, DIST = './Prediction_19383.data'):\n",
    "    \n",
    "    with tf.Session(graph=graph) as session:\n",
    "        tf.initialize_all_variables().run()\n",
    "        print('\\t',     'Minibatch\\t', 'Minibatch\\t',  'Validation')\n",
    "        print('Step\\t', 'Loss\\t\\t',      'Accuracy\\t',  'Accuracy')\n",
    "        x, y = [], []\n",
    "        for step in range(num_steps+1):\n",
    "            offset = (step * batch_size) % (train_labels.shape[0] - batch_size)\n",
    "            batch_data = train_dataset[offset:(offset + batch_size), :, :, :]\n",
    "            batch_labels = train_labels[offset:(offset + batch_size), :]\n",
    "            feed_dict = {tf_train_dataset : batch_data, tf_train_labels : batch_labels}\n",
    "            _, l, predictions = session.run([optimizer, loss, train_prediction], feed_dict=feed_dict)\n",
    "            if (step % int(num_steps/20) == 0):\n",
    "                x.append(accuracy(predictions, batch_labels))\n",
    "                y.append(accuracy(valid_prediction.eval(), valid_labels))\n",
    "                print('%d\\t %f\\t %.1f%%\\t\\t %.1f%%\\t' % (\n",
    "                    step,\n",
    "                    l,\n",
    "                    accuracy(predictions, batch_labels),\n",
    "                    accuracy(valid_prediction.eval(), valid_labels)\n",
    "                ))\n",
    "        plt.plot(range(0, len(x)),x , label='Minibatch')\n",
    "        plt.plot(range(0, len(y)),y , label='Validation')\n",
    "        plt.legend(bbox_to_anchor=(1.05, 1), loc=2, borderaxespad=0.)\n",
    "        plt.ylabel('Accuracy')\n",
    "        plt.xlabel('Iteration')\n",
    "        plt.show()\n",
    "        print('*** TEST ACCURACY(dummy): %.1f%% ***' % accuracy(test_prediction.eval(), test_dummy_labels))\n",
    "        print('*** ANS ACCURACY: %.1f%% ***' % accuracy(ans_prediction.eval(), ans_labels))\n",
    "        results = ans_prediction.eval()\n",
    "    \n",
    "        ## Export file        \n",
    "        print('* ans_prediction.eval(): ', results)\n",
    "        results = np.argmax(results, axis=1)\n",
    "        print('* results: ', results)        \n",
    "        with open(DIST, 'w') as f:\n",
    "            for r in results:\n",
    "                f.write(str(r)+'\\n')        \n",
    "                f.close\n",
    "            print('Prediction result saved to',DIST)    \n",
    "            \n",
    "    return results\n",
    "    \n",
    "            "
   ]
  },
  {
   "cell_type": "code",
   "execution_count": 10,
   "metadata": {},
   "outputs": [
    {
     "name": "stdout",
     "output_type": "stream",
     "text": [
      "\t Minibatch\t Minibatch\t Validation\n",
      "Step\t Loss\t\t Accuracy\t Accuracy\n",
      "0\t 0.726380\t 48.4%\t\t 49.0%\t\n",
      "50\t 0.692544\t 54.3%\t\t 51.4%\t\n",
      "100\t 0.687551\t 53.5%\t\t 50.5%\t\n",
      "150\t 0.699347\t 49.6%\t\t 54.0%\t\n",
      "200\t 0.691198\t 53.1%\t\t 55.3%\t\n",
      "250\t 0.694991\t 52.0%\t\t 55.5%\t\n",
      "300\t 0.695008\t 52.7%\t\t 57.9%\t\n",
      "350\t 0.673173\t 59.8%\t\t 58.0%\t\n",
      "400\t 0.689820\t 54.7%\t\t 55.0%\t\n",
      "450\t 0.676622\t 56.6%\t\t 61.8%\t\n",
      "500\t 0.631358\t 64.8%\t\t 62.2%\t\n",
      "550\t 0.670135\t 58.2%\t\t 59.4%\t\n",
      "600\t 0.628820\t 65.2%\t\t 61.9%\t\n",
      "650\t 0.616791\t 64.1%\t\t 62.8%\t\n",
      "700\t 0.603258\t 69.9%\t\t 57.6%\t\n",
      "750\t 0.608723\t 68.0%\t\t 66.1%\t\n",
      "800\t 0.642044\t 62.5%\t\t 59.5%\t\n",
      "850\t 0.611376\t 65.6%\t\t 68.1%\t\n",
      "900\t 0.592239\t 68.8%\t\t 66.2%\t\n",
      "950\t 0.589193\t 71.1%\t\t 69.7%\t\n",
      "1000\t 0.631427\t 61.7%\t\t 68.1%\t\n"
     ]
    },
    {
     "data": {
      "image/png": "[encoded data removed]",
      "text/plain": [
       "<matplotlib.figure.Figure at 0x7f5db403ddd8>"
      ]
     },
     "metadata": {},
     "output_type": "display_data"
    },
    {
     "name": "stdout",
     "output_type": "stream",
     "text": [
      "*** TEST ACCURACY: 69.7% ***\n",
      "*** ANS ACCURACY: 68.1% ***\n",
      "* ans_prediction.eval():  [[ 0.75219434  0.24780573]\n",
      " [ 0.62626356  0.37373644]\n",
      " [ 0.82774812  0.17225188]\n",
      " ..., \n",
      " [ 0.71071959  0.28928047]\n",
      " [ 0.52742964  0.47257036]\n",
      " [ 0.53305811  0.46694189]]\n",
      "* results:  [0 0 0 ..., 0 0 0]\n",
      "Prediction result saved to ./Prediction_19383_1000steps.data\n"
     ]
    }
   ],
   "source": [
    "result_1000 = run_session(1000, DIST = './Prediction_19383_1000steps.data')"
   ]
  },
  {
   "cell_type": "code",
   "execution_count": 11,
   "metadata": {},
   "outputs": [
    {
     "name": "stdout",
     "output_type": "stream",
     "text": [
      "\t Minibatch\t Minibatch\t Validation\n",
      "Step\t Loss\t\t Accuracy\t Accuracy\n",
      "0\t 0.739284\t 48.0%\t\t 49.2%\t\n",
      "400\t 0.693391\t 55.9%\t\t 50.8%\t\n",
      "800\t 0.693398\t 46.1%\t\t 50.7%\t\n",
      "1200\t 0.690267\t 50.0%\t\t 50.7%\t\n",
      "1600\t 0.687480\t 46.1%\t\t 50.7%\t\n",
      "2000\t 0.678466\t 44.5%\t\t 50.7%\t\n",
      "2400\t 0.670504\t 48.0%\t\t 51.0%\t\n",
      "2800\t 0.549879\t 73.0%\t\t 69.9%\t\n",
      "3200\t 0.610140\t 69.1%\t\t 67.5%\t\n",
      "3600\t 0.604669\t 65.6%\t\t 72.4%\t\n",
      "4000\t 0.541892\t 73.0%\t\t 74.3%\t\n",
      "4400\t 0.444828\t 80.9%\t\t 76.3%\t\n",
      "4800\t 0.413186\t 81.6%\t\t 77.7%\t\n",
      "5200\t 0.420222\t 80.1%\t\t 77.8%\t\n",
      "5600\t 0.398285\t 81.2%\t\t 80.3%\t\n",
      "6000\t 0.409523\t 84.8%\t\t 81.1%\t\n",
      "6400\t 0.437637\t 80.5%\t\t 81.2%\t\n",
      "6800\t 0.391691\t 81.6%\t\t 82.3%\t\n",
      "7200\t 0.374179\t 83.2%\t\t 82.7%\t\n",
      "7600\t 0.343063\t 84.0%\t\t 82.5%\t\n",
      "8000\t 0.376838\t 85.5%\t\t 81.9%\t\n"
     ]
    },
    {
     "data": {
      "image/png": "[encoded data removed]",
      "text/plain": [
       "<matplotlib.figure.Figure at 0x7f5d940d0f60>"
      ]
     },
     "metadata": {},
     "output_type": "display_data"
    },
    {
     "name": "stdout",
     "output_type": "stream",
     "text": [
      "*** TEST ACCURACY: 43.4% ***\n",
      "*** ANS ACCURACY: 81.9% ***\n",
      "* ans_prediction.eval():  [[ 0.19000204  0.80999798]\n",
      " [ 0.54060632  0.45939365]\n",
      " [ 0.7378602   0.2621398 ]\n",
      " ..., \n",
      " [ 0.97381759  0.02618245]\n",
      " [ 0.39285848  0.60714155]\n",
      " [ 0.47253528  0.52746475]]\n",
      "* results:  [1 0 0 ..., 0 1 1]\n",
      "Prediction result saved to ./Prediction_19383_8000steps.data\n"
     ]
    }
   ],
   "source": [
    "result_8000 = run_session(8000, DIST = './Prediction_19383_8000steps.data')"
   ]
  },
  {
   "cell_type": "code",
   "execution_count": 12,
   "metadata": {
    "scrolled": true
   },
   "outputs": [
    {
     "name": "stdout",
     "output_type": "stream",
     "text": [
      "\t Minibatch\t Minibatch\t Validation\n",
      "Step\t Loss\t\t Accuracy\t Accuracy\n",
      "0\t 0.812564\t 52.0%\t\t 50.7%\t\n",
      "600\t 0.623794\t 68.8%\t\t 63.5%\t\n",
      "1200\t 0.586360\t 70.3%\t\t 70.6%\t\n",
      "1800\t 0.491320\t 77.7%\t\t 73.4%\t\n",
      "2400\t 0.449061\t 79.7%\t\t 74.0%\t\n",
      "3000\t 0.480724\t 78.9%\t\t 74.6%\t\n",
      "3600\t 0.514147\t 75.0%\t\t 77.3%\t\n",
      "4200\t 0.457493\t 78.1%\t\t 77.8%\t\n",
      "4800\t 0.450495\t 78.9%\t\t 76.2%\t\n",
      "5400\t 0.389566\t 83.6%\t\t 80.8%\t\n",
      "6000\t 0.390954\t 83.2%\t\t 81.9%\t\n",
      "6600\t 0.344714\t 84.8%\t\t 82.1%\t\n",
      "7200\t 0.348730\t 87.1%\t\t 82.6%\t\n",
      "7800\t 0.327689\t 85.9%\t\t 83.4%\t\n",
      "8400\t 0.356189\t 83.6%\t\t 83.2%\t\n",
      "9000\t 0.369209\t 84.4%\t\t 80.8%\t\n",
      "9600\t 0.368652\t 81.6%\t\t 83.2%\t\n",
      "10200\t 0.322857\t 87.5%\t\t 83.7%\t\n",
      "10800\t 0.301181\t 87.1%\t\t 82.0%\t\n",
      "11400\t 0.334048\t 86.3%\t\t 83.6%\t\n",
      "12000\t 0.274088\t 89.8%\t\t 84.6%\t\n"
     ]
    },
    {
     "data": {
      "image/png": "[encoded data removed]",
      "text/plain": [
       "<matplotlib.figure.Figure at 0x7f5d9407f748>"
      ]
     },
     "metadata": {},
     "output_type": "display_data"
    },
    {
     "name": "stdout",
     "output_type": "stream",
     "text": [
      "*** TEST ACCURACY: 50.2% ***\n",
      "*** ANS ACCURACY: 84.2% ***\n",
      "* ans_prediction.eval():  [[ 0.69502193  0.30497807]\n",
      " [ 0.79221255  0.20778747]\n",
      " [ 0.93743449  0.06256557]\n",
      " ..., \n",
      " [ 0.83827353  0.16172646]\n",
      " [ 0.38660493  0.61339504]\n",
      " [ 0.77886081  0.22113921]]\n",
      "* results:  [0 0 0 ..., 0 1 0]\n",
      "Prediction result saved to ./Prediction_19383_12000steps.data\n"
     ]
    }
   ],
   "source": [
    "result_12000 = run_session(12000, DIST = './Prediction_19383_12000steps.data')"
   ]
  }
 ],
 "metadata": {
  "anaconda-cloud": {},
  "colab": {
   "default_view": {},
   "name": "4_convolutions.ipynb",
   "provenance": [],
   "version": "0.3.2",
   "views": {}
  },
  "kernelspec": {
   "display_name": "Python 3",
   "language": "python",
   "name": "python3"
  },
  "language_info": {
   "codemirror_mode": {
    "name": "ipython",
    "version": 3
   },
   "file_extension": ".py",
   "mimetype": "text/x-python",
   "name": "python",
   "nbconvert_exporter": "python",
   "pygments_lexer": "ipython3",
   "version": "3.6.5"
  }
 },
 "nbformat": 4,
 "nbformat_minor": 1
}
