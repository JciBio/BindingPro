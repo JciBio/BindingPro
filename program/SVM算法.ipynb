{
 "cells": [
  {
   "cell_type": "code",
   "execution_count": 1,
   "metadata": {},
   "outputs": [
    {
     "data": {
      "text/plain": [
       "LinearSVC(C=1.0, class_weight=None, dual=True, fit_intercept=True,\n",
       "     intercept_scaling=1, loss='squared_hinge', max_iter=1000,\n",
       "     multi_class='ovr', penalty='l2', random_state=0, tol=0.0001,\n",
       "     verbose=0)"
      ]
     },
     "execution_count": 1,
     "metadata": {},
     "output_type": "execute_result"
    }
   ],
   "source": [
    "from sklearn.svm import LinearSVC\n",
    "from sklearn.datasets import make_classification\n",
    "import numpy as np\n",
    "import scipy.io as sio\n",
    "X,y = make_classification(n_features = 4,random_state =0)\n",
    "clf = LinearSVC(random_state = 0)\n",
    "#print(X)\n",
    "clf.fit(X,y)\n"
   ]
  },
  {
   "cell_type": "code",
   "execution_count": null,
   "metadata": {},
   "outputs": [],
   "source": [
    "def svm_read_problem(data_file_name):\n",
    "    prob_y = []\n",
    "    k=0\n",
    "    prob_x = np.ndarray(shape=(270,13))\n",
    "    for line in open(data_file_name):\n",
    "        line =line.split(None, 1)\n",
    "        if len(line) == 1: \n",
    "            line += ['']\n",
    "        label,features = line\n",
    "        xi = np.zeros(shape=(13))\n",
    "        for e in features.split():\n",
    "            ind,val = e.split(\":\")\n",
    "    \n",
    "            xi[int(ind)-1] = float(val)\n",
    "        prob_y += [float(label)]\n",
    "        prob_x[k,:] = xi\n",
    "        k+=1\n",
    "    return (prob_y,prob_x)"
   ]
  },
  {
   "cell_type": "code",
   "execution_count": null,
   "metadata": {},
   "outputs": [],
   "source": [
    "\n",
    "y,x=svm_read_problem(\"heart_scale\")\n",
    "print(x)\n",
    "print(y)\n",
    "clf = LinearSVC(random_state=0)\n",
    "clf.fit(x,y)\n",
    "result_C=clf.predict(x)"
   ]
  },
  {
   "cell_type": "code",
   "execution_count": null,
   "metadata": {},
   "outputs": [],
   "source": [
    "result_C"
   ]
  },
  {
   "cell_type": "code",
   "execution_count": null,
   "metadata": {},
   "outputs": [],
   "source": [
    "Y = np.ndarray(shape=[len(y),1])\n",
    "\n",
    "Y[:,0]=y  #把列表直接转换为数组\n",
    "\n",
    "# for i in range(len(y)):\n",
    "#     Y[i,0] = y[i]"
   ]
  },
  {
   "cell_type": "code",
   "execution_count": null,
   "metadata": {},
   "outputs": [],
   "source": []
  },
  {
   "cell_type": "markdown",
   "metadata": {},
   "source": [
    "# 1、KFold"
   ]
  },
  {
   "cell_type": "code",
   "execution_count": 6,
   "metadata": {},
   "outputs": [
    {
     "name": "stdout",
     "output_type": "stream",
     "text": [
      "[[-1]\n",
      " [-1]\n",
      " [-1]\n",
      " ...\n",
      " [-1]\n",
      " [-1]\n",
      " [-1]]\n",
      "len(X_train)=45878,len(Y_test)=11470\n",
      "YES!\n"
     ]
    },
    {
     "name": "stderr",
     "output_type": "stream",
     "text": [
      "D:\\Program Files\\Anaconda3\\envs\\tensorflow\\lib\\site-packages\\sklearn\\utils\\validation.py:578: DataConversionWarning: A column-vector y was passed when a 1d array was expected. Please change the shape of y to (n_samples, ), for example using ravel().\n",
      "  y = column_or_1d(y, warn=True)\n"
     ]
    },
    {
     "name": "stdout",
     "output_type": "stream",
     "text": [
      "len(X_train)=45878,len(Y_test)=11470\n",
      "YES!\n",
      "len(X_train)=45878,len(Y_test)=11470\n",
      "YES!\n",
      "len(X_train)=45879,len(Y_test)=11469\n",
      "YES!\n",
      "len(X_train)=45879,len(Y_test)=11469\n",
      "YES!\n"
     ]
    }
   ],
   "source": [
    "from sklearn.model_selection import KFold\n",
    "#load benchmark dataset\n",
    "data = sio.loadmat('PDNA-224-Cellauto-11-100-2.mat')\n",
    "\n",
    "Y_pred = np.zeros(shape=[len(Y),1])\n",
    "X = data['data']\n",
    "Y = data['target']\n",
    "print(Y)\n",
    "X = X.reshape(57348,-1)\n",
    "#loo = LeaveOneOut()\n",
    "kf = KFold(n_splits=5)\n",
    "kf.get_n_splits(X)\n",
    "for train_index, test_index in kf.split(X):\n",
    "    X_train, X_test = X[train_index], X[test_index]\n",
    "    Y_train, Y_test = Y[train_index], Y[test_index]\n",
    "    print(\"len(X_train)={},len(Y_test)={}\".format(len(X_train),len(Y_test)))\n",
    "    print(\"YES!\")\n",
    "    \n",
    "    \n",
    "    clf.fit(X_train,Y_train)\n",
    "    result=clf.predict(X_test)\n",
    "    Y_pred[test_index,0] =  result\n",
    "    \n",
    "    \n",
    "\n"
   ]
  },
  {
   "cell_type": "code",
   "execution_count": 3,
   "metadata": {},
   "outputs": [],
   "source": [
    "from sklearn.metrics import confusion_matrix\n",
    "import matplotlib.pyplot as plt\n",
    "%matplotlib inline\n",
    "\n",
    "def plot_confusion_matrix(cm, classes, title='混淆矩阵', cmap=plt.cm.Greens):\n",
    "    # imshow() 表示绘制并显示二维图 有18个参数\n",
    "    # 参数1 X 混淆矩阵中显示的数值 二维数组\n",
    "    # 参数2 cmap 颜色 plt.cm.Blues表示蓝色 plt.cm.Reds表示红色 plt.cm.Greens表示绿色\n",
    "    # 参数5 interpolation 插值法 一般有如下值\n",
    "    #     nearest 最近邻插值法\n",
    "    #     bilinear 双线性插值法\n",
    "    plt.rcParams['font.sans-serif'] = ['SimHei']\n",
    "    plt.rcParams['axes.unicode_minus'] = False\n",
    "    plt.imshow(cm, cmap=cmap, interpolation=\"nearest\")\n",
    "    plt.title(title)  # 标题\n",
    "    plt.colorbar()  # 显示颜色的进度条\n",
    "    tick_marks = np.arange(2)  # [0 1]\n",
    "    plt.xticks(tick_marks, classes)  # 对x轴上分类进行标记\n",
    "    plt.yticks(tick_marks, classes)  # 对y轴上分类进行标记\n",
    "\n",
    "    thresh = np.mean(cm)\n",
    "    for i in range(2):\n",
    "        for j in range(2):\n",
    "            plt.text(i, j, cm[j][i],\n",
    "                     horizontalalignment='center',\n",
    "                     color='white' if cm[i][j] >= thresh else 'black')\n",
    "\n",
    "    plt.xlabel('预测值')\n",
    "    plt.ylabel('真实值')"
   ]
  },
  {
   "cell_type": "code",
   "execution_count": 7,
   "metadata": {},
   "outputs": [
    {
     "data": {
      "image/png": "[encoded data removed]",
      "text/plain": [
       "<Figure size 432x288 with 2 Axes>"
      ]
     },
     "metadata": {},
     "output_type": "display_data"
    }
   ],
   "source": [
    "cnf_matrix = confusion_matrix(Y,Y_pred)\n",
    "plot_confusion_matrix(cnf_matrix, [1, 0], cmap=plt.cm.Reds)\n",
    "\n"
   ]
  },
  {
   "cell_type": "markdown",
   "metadata": {},
   "source": [
    "# 2、LeaveOneOut"
   ]
  },
  {
   "cell_type": "code",
   "execution_count": null,
   "metadata": {},
   "outputs": [],
   "source": [
    "from sklearn.model_selection import LeaveOneOut\n",
    "\n",
    "loo = LeaveOneOut()\n",
    "Y_L_pred = np.zeros(shape=[len(y),1])\n",
    "for train_index,test_index in loo.split(x):\n",
    "    train_X, test_X = x[train_index],x[test_index]\n",
    "    train_Y, test_Y = Y[train_index],Y[test_index]\n",
    "    clf.fit(train_X,train_Y)\n",
    "    result_L=clf.predict(test_X)\n",
    "    Y_L_pred[test_index,0] =  result_L\n",
    "\n",
    "cnf_matrix_L = confusion_matrix(Y,Y_L_pred)\n",
    "plot_confusion_matrix(cnf_matrix_L, [1, 0], cmap=plt.cm.Reds)\n"
   ]
  },
  {
   "cell_type": "code",
   "execution_count": null,
   "metadata": {},
   "outputs": [],
   "source": []
  }
 ],
 "metadata": {
  "kernelspec": {
   "display_name": "Python 3",
   "language": "python",
   "name": "python3"
  },
  "language_info": {
   "codemirror_mode": {
    "name": "ipython",
    "version": 3
   },
   "file_extension": ".py",
   "mimetype": "text/x-python",
   "name": "python",
   "nbconvert_exporter": "python",
   "pygments_lexer": "ipython3",
   "version": "3.6.5"
  }
 },
 "nbformat": 4,
 "nbformat_minor": 2
}
