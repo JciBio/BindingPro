{
 "cells": [
  {
   "cell_type": "code",
   "execution_count": 1,
   "metadata": {},
   "outputs": [
    {
     "name": "stdout",
     "output_type": "stream",
     "text": [
      "WARNING:tensorflow:From <ipython-input-1-b3c8e7ab0762>:7: read_data_sets (from tensorflow.contrib.learn.python.learn.datasets.mnist) is deprecated and will be removed in a future version.\n",
      "Instructions for updating:\n",
      "Please use alternatives such as official/mnist/dataset.py from tensorflow/models.\n",
      "WARNING:tensorflow:From D:\\Program Files\\Anaconda3\\envs\\tensorflow\\lib\\site-packages\\tensorflow\\contrib\\learn\\python\\learn\\datasets\\mnist.py:260: maybe_download (from tensorflow.contrib.learn.python.learn.datasets.base) is deprecated and will be removed in a future version.\n",
      "Instructions for updating:\n",
      "Please write your own downloading logic.\n",
      "WARNING:tensorflow:From D:\\Program Files\\Anaconda3\\envs\\tensorflow\\lib\\site-packages\\tensorflow\\contrib\\learn\\python\\learn\\datasets\\mnist.py:262: extract_images (from tensorflow.contrib.learn.python.learn.datasets.mnist) is deprecated and will be removed in a future version.\n",
      "Instructions for updating:\n",
      "Please use tf.data to implement this functionality.\n",
      "Extracting MNIST_data/train-images-idx3-ubyte.gz\n",
      "WARNING:tensorflow:From D:\\Program Files\\Anaconda3\\envs\\tensorflow\\lib\\site-packages\\tensorflow\\contrib\\learn\\python\\learn\\datasets\\mnist.py:267: extract_labels (from tensorflow.contrib.learn.python.learn.datasets.mnist) is deprecated and will be removed in a future version.\n",
      "Instructions for updating:\n",
      "Please use tf.data to implement this functionality.\n",
      "Extracting MNIST_data/train-labels-idx1-ubyte.gz\n",
      "Extracting MNIST_data/t10k-images-idx3-ubyte.gz\n",
      "Extracting MNIST_data/t10k-labels-idx1-ubyte.gz\n",
      "WARNING:tensorflow:From D:\\Program Files\\Anaconda3\\envs\\tensorflow\\lib\\site-packages\\tensorflow\\contrib\\learn\\python\\learn\\datasets\\mnist.py:290: DataSet.__init__ (from tensorflow.contrib.learn.python.learn.datasets.mnist) is deprecated and will be removed in a future version.\n",
      "Instructions for updating:\n",
      "Please use alternatives such as official/mnist/dataset.py from tensorflow/models.\n",
      "INFO:tensorflow:Restoring parameters from ./logs/mnist.ckpt-95\n",
      "val_loss:2.302654, val_acc:0.066100\n"
     ]
    }
   ],
   "source": [
    "# -*- coding: utf-8 -*-\n",
    "\"\"\"\n",
    "模型的保存与恢复\n",
    "\"\"\"\n",
    "import tensorflow as tf\n",
    "from tensorflow.examples.tutorials.mnist import input_data\n",
    "mnist = input_data.read_data_sets(\"MNIST_data/\", one_hot=False)\n",
    "\n",
    "x = tf.placeholder(tf.float32, [None, 784])\n",
    "y_=tf.placeholder(tf.int32,[None,])\n",
    "\n",
    "dense1 = tf.layers.dense(inputs=x, \n",
    "                      units=1024, \n",
    "                      activation=tf.nn.relu,\n",
    "                      kernel_initializer=tf.truncated_normal_initializer(stddev=0.01),\n",
    "                      kernel_regularizer=tf.nn.l2_loss)\n",
    "dense2= tf.layers.dense(inputs=dense1, \n",
    "                      units=512, \n",
    "                      activation=tf.nn.relu,\n",
    "                      kernel_initializer=tf.truncated_normal_initializer(stddev=0.01),\n",
    "                      kernel_regularizer=tf.nn.l2_loss)\n",
    "logits= tf.layers.dense(inputs=dense2, \n",
    "                        units=10, \n",
    "                        activation=None,\n",
    "                        kernel_initializer=tf.truncated_normal_initializer(stddev=0.01),\n",
    "                        kernel_regularizer=tf.nn.l2_loss)\n",
    "\n",
    "loss=tf.losses.sparse_softmax_cross_entropy(labels=y_,logits=logits)\n",
    "train_op=tf.train.AdamOptimizer(learning_rate=0.001).minimize(loss)\n",
    "correct_prediction = tf.equal(tf.cast(tf.argmax(logits,1),tf.int32), y_)    \n",
    "acc= tf.reduce_mean(tf.cast(correct_prediction, tf.float32))\n",
    "\n",
    "sess=tf.InteractiveSession()  \n",
    "sess.run(tf.global_variables_initializer())\n",
    "\n",
    "#is_train=True\n",
    "is_train=False\n",
    "saver=tf.train.Saver(max_to_keep=1)\n",
    "\n",
    "#训练阶段\n",
    "if is_train:\n",
    "    max_acc=0\n",
    "    f=open('./logs/acc.txt','w')\n",
    "    for i in range(100):\n",
    "        \n",
    "        batch_xs, batch_ys = mnist.train.next_batch(100)\n",
    "        sess.run(train_op, feed_dict={x: batch_xs, y_: batch_ys})\n",
    "        val_loss,val_acc=sess.run([loss,acc], feed_dict={x: mnist.test.images, y_: mnist.test.labels})\n",
    "        print('epoch:%d, val_loss:%f, val_acc:%f'%(i,val_loss,val_acc))\n",
    "        f.write(str(i+1)+', val_acc: '+str(val_acc)+'\\n')\n",
    "        if val_acc>max_acc:\n",
    "            max_acc=val_acc\n",
    "            saver.save(sess,'./logs/mnist.ckpt',global_step=i+1)\n",
    "    f.close()\n",
    "\n",
    "#验证阶段\n",
    "else:\n",
    "    model_file=tf.train.latest_checkpoint('./logs/')\n",
    "    saver.restore(sess,model_file)\n",
    "    val_loss,val_acc=sess.run([loss,acc], feed_dict={x: mnist.test.images, y_: mnist.test.labels})\n",
    "    print('val_loss:%f, val_acc:%f'%(val_loss,val_acc))\n",
    "sess.close()"
   ]
  },
  {
   "cell_type": "code",
   "execution_count": null,
   "metadata": {},
   "outputs": [],
   "source": []
  },
  {
   "cell_type": "code",
   "execution_count": null,
   "metadata": {},
   "outputs": [],
   "source": []
  }
 ],
 "metadata": {
  "kernelspec": {
   "display_name": "Python 3",
   "language": "python",
   "name": "python3"
  },
  "language_info": {
   "codemirror_mode": {
    "name": "ipython",
    "version": 3
   },
   "file_extension": ".py",
   "mimetype": "text/x-python",
   "name": "python",
   "nbconvert_exporter": "python",
   "pygments_lexer": "ipython3",
   "version": "3.6.5"
  }
 },
 "nbformat": 4,
 "nbformat_minor": 2
}
